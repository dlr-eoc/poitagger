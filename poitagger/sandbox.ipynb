{
 "cells": [
  {
   "cell_type": "code",
   "execution_count": 2,
   "metadata": {},
   "outputs": [],
   "source": [
    "import os\n",
    "import flatten_dict\n",
    "from datetime import datetime\n",
    "path = \"G:/Geteilte Ablagen/thermal DRONES GmbH/Wildretter-Daten/verschiedene Kameras\\\\DJI/DJI-Farbkamera_neu/DJI_0001.JPG\""
   ]
  },
  {
   "cell_type": "code",
   "execution_count": 10,
   "metadata": {},
   "outputs": [
    {
     "name": "stdout",
     "output_type": "stream",
     "text": [
      "0 SOI  0 2 0 0\n",
      "1 APP1 b'Exif' 2 17740 0 0\n",
      "2 SOI  440 442 1 1\n",
      "3 APP0 b'JFIF' 442 460 1 1\n",
      "4 DQT  460 594 1 1\n",
      "5 DHT  594 1014 1 1\n",
      "6 SOF0  1014 1033 1 1\n",
      "7 DRI  1033 1039 1 1\n",
      "8 SOS  1039 1053 1 1\n",
      "9 EOI  17738 17740 1 1\n",
      "10 APP2  17740 19004 0 0\n",
      "11 APP3  19004 51776 0 0\n",
      "12 COM  20556 86092 11 1\n",
      "13 COM  20560 20817 12 2\n",
      "14 TEM  20565 85848 13 3\n",
      "15 TEM  20569 85853 14 4\n",
      "16 SOF0  21681 87155 15 5\n",
      "17 SOF0  21685 87160 16 6\n",
      "18 SOF1  21689 87164 17 7\n",
      "19 SOF2  21693 87169 18 8\n",
      "20 SOF2  21697 87174 19 9\n",
      "21 SOF3  21701 87178 20 10\n",
      "22 DHT  21705 87183 21 11\n",
      "23 DHT  21709 87188 22 12\n",
      "24 SOF5  21713 87192 23 13\n",
      "25 SOF6  21717 87197 24 14\n",
      "26 SOF6  21721 87202 25 15\n",
      "27 SOF7  21725 87206 26 16\n",
      "28 JPG  21729 87211 27 17\n",
      "29 JPG  21733 87216 28 18\n",
      "30 SOF9  21737 87220 29 19\n",
      "31 SOF10  21741 87225 30 20\n",
      "32 SOF10  21745 87230 31 21\n",
      "33 SOF11  21749 87234 32 22\n",
      "34 DAC  21753 87239 33 23\n",
      "35 DAC  21757 87243 34 24\n",
      "36 SOF13  21761 87248 35 25\n",
      "37 SOF13  21765 87253 36 26\n",
      "38 SOF14  21769 87257 37 27\n",
      "39 SOF15  21773 87262 38 28\n",
      "40 SOF15  21777 87267 39 29\n",
      "41 RST0  21781 87271 40 30\n",
      "42 RST1  21785 87276 41 31\n",
      "43 RST1  21789 87281 42 32\n",
      "44 RST2  21793 87285 43 33\n",
      "45 RST3  21797 87290 44 34\n",
      "46 RST3  21801 87295 45 35\n",
      "47 RST4  21805 87299 46 36\n",
      "48 RST5  21809 87304 47 37\n",
      "49 RST5  21813 87309 48 38\n",
      "50 RST6  21817 87313 49 39\n",
      "51 RST6  21821 87318 50 40\n",
      "52 RST7  21825 87322 51 41\n",
      "53 SOI  21829 21831 52 42\n",
      "54 SOI  21831 21833 52 42\n",
      "55 SOI  21833 21835 52 42\n",
      "56 EOI  21835 21837 52 42\n",
      "57 EOI  21837 21839 52 42\n",
      "58 EOI  21839 21841 52 42\n",
      "59 SOS  21841 87341 52 42\n",
      "60 SOS  21845 87346 59 43\n",
      "61 DQT  21849 87350 60 44\n",
      "62 DNL  21853 87355 61 45\n",
      "63 DNL  21857 87360 62 46\n",
      "64 DRI  21861 87364 63 47\n",
      "65 DHP  21865 87369 64 48\n",
      "66 DHP  21869 87374 65 49\n",
      "67 EXP  21873 87378 66 50\n",
      "68 EXP  21877 87383 67 51\n",
      "69 APP0 b'\\xff\\xe1\\xff\\xe1' 21881 87387 68 52\n",
      "70 APP1 b'\\xff\\xe1\\xff\\xe2' 21885 87392 69 53\n",
      "71 APP1 b'\\xff\\xe2\\xff\\xe2' 21889 87397 70 54\n",
      "72 APP2  21893 87401 71 55\n",
      "73 APP3  21897 87406 72 56\n",
      "74 APP3  21901 87411 73 57\n",
      "75 APP4  21905 87415 74 58\n",
      "76 APP5  21909 87420 75 59\n",
      "77 APP5  21913 87425 76 60\n",
      "78 APP6  21917 87429 77 61\n",
      "79 APP7  21921 87434 78 62\n",
      "80 APP7  21925 87438 79 63\n",
      "81 APP8  21929 87443 80 64\n",
      "82 APP8  21933 87448 81 65\n",
      "83 APP9  21937 87452 82 66\n",
      "84 APP10  21941 87457 83 67\n",
      "85 APP10  21945 87462 84 68\n",
      "86 APP11  21949 87466 85 69\n",
      "87 APP12  21953 87471 86 70\n",
      "88 APP12  21957 87476 87 71\n",
      "89 APP13  21961 87480 88 72\n",
      "90 APP14  21965 87485 89 73\n",
      "91 APP14  21969 87489 90 74\n",
      "92 APP15  21973 87494 91 75\n",
      "93 APP15  21977 87499 92 76\n",
      "94 JPG0  21981 87503 93 77\n",
      "95 JPG13  22061 87596 94 78\n",
      "96 JPG13  22065 87601 95 79\n",
      "97 COM  22069 87605 96 80\n",
      "98 TEM  26084 91367 97 81\n",
      "99 TEM  26088 91371 98 82\n",
      "100 TEM  26092 26096 99 83\n",
      "101 APP4  51776 117312 99 83\n",
      "102 APP4  117312 182848 0 0\n",
      "103 APP4  182848 248384 0 0\n",
      "104 APP4  248384 313920 0 0\n",
      "105 APP4  313920 379456 0 0\n",
      "106 APP4  379456 444992 0 0\n",
      "107 APP4  444992 510528 0 0\n",
      "108 APP4  510528 576064 0 0\n",
      "109 APP4  576064 641600 0 0\n",
      "110 APP4  641600 707136 0 0\n",
      "111 APP4  707136 707180 0 0\n",
      "112 DQT  707180 707314 0 0\n",
      "113 DHT  707314 707734 0 0\n",
      "114 SOF0  707734 707753 0 0\n",
      "115 DRI  707753 707759 0 0\n",
      "116 SOS  707759 707773 0 0\n",
      "117 RST0  723869 787942 0 0\n",
      "118 RST1  740601 803094 117 1\n",
      "119 RST2  757388 822089 118 2\n",
      "120 RST3  771621 836319 119 3\n",
      "121 RST4  783122 845139 120 4\n",
      "122 RST5  794637 859339 121 5\n",
      "123 RST6  804469 869162 122 6\n",
      "124 RST7  814278 878973 123 7\n",
      "125 RST0  824510 889208 124 8\n",
      "126 RST1  834859 898427 125 9\n",
      "127 RST2  845969 910730 126 10\n",
      "128 RST3  856556 921307 127 11\n",
      "129 RST4  869134 928463 128 12\n",
      "130 RST5  882539 946113 129 13\n",
      "131 RST6  898053 961856 130 14\n"
     ]
    }
   ],
   "source": [
    "import re\n",
    "MARKER = {\n",
    "b\"\\xff\\xe0\":\"APP0\" , # JFIF APP0 segment marker\n",
    "b\"\\xff\\xe1\":\"APP1\" ,\n",
    "b\"\\xff\\xe2\":\"APP2\" ,\n",
    "b\"\\xff\\xe3\":\"APP3\" ,\n",
    "b\"\\xff\\xe4\":\"APP4\" ,\n",
    "b\"\\xff\\xe5\":\"APP5\" ,\n",
    "b\"\\xff\\xe6\":\"APP6\" ,\n",
    "b\"\\xff\\xe7\":\"APP7\" ,\n",
    "b\"\\xff\\xe8\":\"APP8\" ,\n",
    "b\"\\xff\\xe9\":\"APP9\" ,\n",
    "b\"\\xff\\xea\":\"APP10\",\n",
    "b\"\\xff\\xeb\":\"APP11\",\n",
    "b\"\\xff\\xec\":\"APP12\",\n",
    "b\"\\xff\\xed\":\"APP13\",\n",
    "b\"\\xff\\xee\":\"APP14\",\n",
    "b\"\\xff\\xef\":\"APP15\",\n",
    "b\"\\xff\\xc0\":\"SOF0\" , # Start Of Frame (baseline JPEG) \n",
    "b\"\\xff\\xc1\":\"SOF1\" , # Start Of Frame (baseline JPEG) \n",
    "b\"\\xff\\xc2\":\"SOF2\" ,\n",
    "b\"\\xff\\xc3\":\"SOF3\" ,\n",
    "b\"\\xff\\xc4\":\"SOF4\" ,\n",
    "b\"\\xff\\xc5\":\"SOF5\" ,\n",
    "b\"\\xff\\xc6\":\"SOF6\" ,\n",
    "b\"\\xff\\xc7\":\"SOF7\" ,\n",
    "b\"\\xff\\xc9\":\"SOF9\" ,\n",
    "b\"\\xff\\xca\":\"SOF10\",\n",
    "b\"\\xff\\xcb\":\"SOF11\",\n",
    "b\"\\xff\\xcd\":\"SOF13\",\n",
    "b\"\\xff\\xce\":\"SOF14\",\n",
    "b\"\\xff\\xcf\":\"SOF15\",\n",
    "b\"\\xff\\xc4\":\"DHT\"  , # Define Huffman Table\n",
    "b\"\\xff\\xdb\":\"DQT\"  , # Define Quantization Table\n",
    "b\"\\xff\\xda\":\"SOS\"  ,  # Start of Scan\n",
    "b\"\\xff\\xc8\":\"JPG\"  ,\n",
    "b\"\\xff\\xf0\":\"JPG0\" ,\n",
    "b\"\\xff\\xfd\":\"JPG13\",\n",
    "b\"\\xff\\xcc\":\"DAC\"  , # Define Arithmetic Table, usually unsupport \n",
    "b\"\\xff\\xdc\":\"DNL\"  ,\n",
    "b\"\\xff\\xdd\":\"DRI\"  , # Define Restart Interval\n",
    "b\"\\xff\\xde\":\"DHP\"  ,\n",
    "b\"\\xff\\xdf\":\"EXP\"  ,\n",
    "b\"\\xff\\xd0\":\"RST0\" ,  # RSTn are used for resync, may be ignored\n",
    "b\"\\xff\\xd1\":\"RST1\" ,\n",
    "b\"\\xff\\xd2\":\"RST2\" ,\n",
    "b\"\\xff\\xd3\":\"RST3\" ,\n",
    "b\"\\xff\\xd4\":\"RST4\" ,\n",
    "b\"\\xff\\xd5\":\"RST5\" ,\n",
    "b\"\\xff\\xd6\":\"RST6\" ,\n",
    "b\"\\xff\\xd7\":\"RST7\" ,\n",
    "    \n",
    "b\"\\xff\\x01\":\"TEM\"  ,\n",
    "b\"\\xff\\xfe\":\"COM\"  } # Comment\n",
    "# ffd9 is end of image\n",
    "           \n",
    "    \n",
    "\n",
    "TYPES = {1: {\"id\":1, \"name\":\"Byte\",\"format\":\"B\",\"size\":1},\n",
    "        2: {\"id\":2,  \"name\":\"Ascii\",\"format\":\"s\",\"size\":1},\n",
    "        3: {\"id\":3,  \"name\":\"Short\",\"format\":\"H\",\"size\":2},\n",
    "        4: {\"id\":4,  \"name\":\"Long\",\"format\":\"L\",\"size\":4},\n",
    "        5: {\"id\":5,  \"name\":\"Rational\",\"format\":\"LL\",\"size\":8},\n",
    "        6: {\"id\":6,  \"name\":\"SByte\",\"format\":\"b\",\"size\":1},\n",
    "        7: {\"id\":7,  \"name\":\"Undefined\",\"format\":\"B\",\"size\":1}, # B\n",
    "        8: {\"id\":8,  \"name\":\"SShort\",\"format\":\"h\",\"size\":2},\n",
    "        9: {\"id\":9,  \"name\":\"SLong\",\"format\":\"l\",\"size\":4},\n",
    "        10: {\"id\":10,\"name\":\"SRational\",\"format\":\"ll\",\"size\":8},\n",
    "        11: {\"id\":11,\"name\":\"Float\",\"format\":\"f\",\"size\":4},\n",
    "        12: {\"id\":12,\"name\":\"Double\",\"format\":\"d\",\"size\":8},\n",
    "        }\n",
    "\n",
    "\n",
    "ENDIAN = {b\"II*\\x00\":{\"name\":\"Little Endian\",\"format\":\"<\",\"data\":b\"II*\\x00\",\"shortname\":\"little\"},\n",
    "          b\"MM*\\x00\":{\"name\":\"Big Endian\",\"format\":\">\",\"data\":b\"MM*\\x00\",\"shortname\":\"big\"}}\n",
    "\n",
    "IFD_TAG_SIZE = 12 # HHII (TagID (short), Type (short), Count (int),ValueOffset (int) )\n",
    "NEXT_IFD_OFFSET_SIZE = 4\n",
    "NUM_OF_INTEROP_SIZE = 2\n",
    "\n",
    "MARKER_2BYTE = {\n",
    "    b\"\\xff\\xd8\":\"SOI\"  ,  # Start of Image\n",
    "    b\"\\xff\\xd9\":\"EOI\"  ,  # End of Image\n",
    "    b\"\\xff\\xd0\":\"RST0\" ,  # RSTn are used for resync, may be ignored\n",
    "    b\"\\xff\\xd1\":\"RST1\" ,\n",
    "    b\"\\xff\\xd2\":\"RST2\" ,\n",
    "    b\"\\xff\\xd3\":\"RST3\" ,\n",
    "    b\"\\xff\\xd4\":\"RST4\" ,\n",
    "    b\"\\xff\\xd5\":\"RST5\" ,\n",
    "    b\"\\xff\\xd6\":\"RST6\" ,\n",
    "    b\"\\xff\\xd7\":\"RST7\" ,\n",
    "    b\"\\xff\\x01\":\"TEM\"  ,\n",
    "    }\n",
    "\n",
    "MARKER_2BYTE_REV = {y:x for x,y in MARKER_2BYTE.items()}\n",
    "\n",
    "MARKER_REV = {y:x for x,y in MARKER.items()}\n",
    "\n",
    "\n",
    "def find_segments(rawdata):\n",
    "    \"\"\"\n",
    "    A Jpeg file is normally structured as JFIF.\n",
    "    JFIF has Segments (see MARKER)\n",
    "\n",
    "    returns the complete File as a Segments-List\n",
    "    \"\"\"\n",
    "    pattern = bytearray(b\"..|\".join(MARKER.keys()))\n",
    "    pattern.extend(b\"..|\")\n",
    "    pattern.extend(b\"|\".join(MARKER_2BYTE.keys()))\n",
    "    cpattern = re.compile(bytes(pattern))\n",
    "    segments = []\n",
    "    id = 0\n",
    "    parent = 0\n",
    "    for m in cpattern.finditer(rawdata):\n",
    "        if len(m.group())>=4: \n",
    "            seg_length = 256 * m.group()[2] + m.group()[3]\n",
    "            segment = MARKER[m.group()[:-2]]\n",
    "        else:\n",
    "            seg_length = 0\n",
    "            try:\n",
    "                segment = MARKER[m.group()]\n",
    "            except KeyError:\n",
    "                segment = MARKER_2BYTE[m.group()]\n",
    "            except: \n",
    "                logging.error(\"find JFIF Segment failed\",exc_info=True)\n",
    "        if segment in [\"APP0\",\"APP1\"]:\n",
    "            seg_type = rawdata[m.start()+4:m.start()+8]\n",
    "        else:\n",
    "            seg_type = ''\n",
    "\n",
    "        parent,level = next(((item[\"id\"],item[\"level\"]+1) \n",
    "                            for item in reversed(segments) \n",
    "                                if item[\"end\"] > m.start()), (0,0))\n",
    "        segments.append({\"id\":id,\n",
    "            \"segment\": segment,\n",
    "            \"pos\":m.start(),\n",
    "            \"end\" : m.start()+seg_length+2,\n",
    "            \"type\": seg_type,             \n",
    "            \"parent\": parent, \n",
    "            \"level\": level, \n",
    "            \"data\": rawdata[m.start() : m.start() + seg_length+2]   })\n",
    "        id += 1\n",
    "    return segments\n",
    "\n",
    "filepath = \"C:/Users/marti/Downloads/dji_thermal_sdk_v1.2_20211209/dataset/XTS/DJI_0001_R.jpg\"\n",
    "with open(filepath,\"rb\") as f:\n",
    "    rawdata = f.read()\n",
    "seg = find_segments(rawdata) \n",
    "for s in seg:\n",
    "    print(s[\"id\"],s[\"segment\"],s[\"type\"],s[\"pos\"],s[\"end\"],s[\"parent\"],s[\"level\"])\n",
    " "
   ]
  },
  {
   "cell_type": "code",
   "execution_count": null,
   "metadata": {},
   "outputs": [],
   "source": [
    "pointer = 0\n",
    "offset = 2 # this is the length of MARKER. \n",
    "if rawdata[pointer:pointer+2]==b'\\xff\\xd8':\n",
    "    print(\"THIS IS A JFIF FILE\") \n",
    "    pointer = 2\n",
    "filelength = len(rawdata)\n",
    "while pointer < filelength:\n",
    "    if rawdata[pointer:pointer+2] in MARKER.keys():\n",
    "        print(\"position:\",pointer)\n",
    "        print(\"MARKER found!\", MARKER[rawdata[pointer:pointer+2]])\n",
    "        print (rawdata[pointer:pointer+2])\n",
    "        pointer = offset + pointer + 256 * rawdata[pointer+2] + rawdata[pointer+3]\n",
    "        #print (rawdata[pointer+offset:pointer+offset+2])\n",
    "    elif rawdata[pointer:pointer+2] in MARKER_2BYTE.keys():\n",
    "        print(\"2 BYTE MARKER found!\", MARKER_2BYTE[rawdata[pointer:pointer+2]])\n",
    "        pointer = offset + pointer\n",
    "        print(\"position:\",pointer)\n",
    "    else:   \n",
    "        print(\"NOTHING FOUND!\")\n",
    "        print (rawdata[pointer-10:pointer+offset+10])\n",
    "        \n",
    "    \n",
    "    "
   ]
  },
  {
   "cell_type": "code",
   "execution_count": 4,
   "metadata": {},
   "outputs": [
    {
     "data": {
      "text/plain": [
       "'2020-05-14 13:41:46 '"
      ]
     },
     "execution_count": 4,
     "metadata": {},
     "output_type": "execute_result"
    }
   ],
   "source": [
    "t = os.path.getmtime(path)\n",
    "datetime.fromtimestamp(t).strftime(\"%Y-%m-%d %H:%M:%S \")"
   ]
  },
  {
   "cell_type": "code",
   "execution_count": 5,
   "metadata": {},
   "outputs": [],
   "source": [
    "rational = (72, 1,2)"
   ]
  },
  {
   "cell_type": "code",
   "execution_count": 6,
   "metadata": {},
   "outputs": [],
   "source": [
    "def rational2float(rational):\n",
    "    if len(rational) == 2:\n",
    "        return(rational[0]/rational[1])\n",
    "    else:\n",
    "        return(rational)"
   ]
  },
  {
   "cell_type": "code",
   "execution_count": 7,
   "metadata": {},
   "outputs": [
    {
     "data": {
      "text/plain": [
       "(72, 1, 2)"
      ]
     },
     "execution_count": 7,
     "metadata": {},
     "output_type": "execute_result"
    }
   ],
   "source": [
    "rational2float(rational)"
   ]
  },
  {
   "cell_type": "code",
   "execution_count": 8,
   "metadata": {},
   "outputs": [],
   "source": [
    "gpsdatetime = b'1970:01:01 00:03:1'\n",
    "subsec = b'88300'"
   ]
  },
  {
   "cell_type": "code",
   "execution_count": 9,
   "metadata": {},
   "outputs": [
    {
     "data": {
      "text/plain": [
       "datetime.datetime(1970, 1, 1, 0, 3, 1, 883000)"
      ]
     },
     "execution_count": 9,
     "metadata": {},
     "output_type": "execute_result"
    }
   ],
   "source": [
    "datetime.strptime((gpsdatetime +b\".\"+ subsec).decode(),\"%Y:%m:%d %H:%M:%S.%f\")"
   ]
  },
  {
   "cell_type": "code",
   "execution_count": null,
   "metadata": {},
   "outputs": [],
   "source": [
    " "
   ]
  },
  {
   "cell_type": "code",
   "execution_count": 10,
   "metadata": {},
   "outputs": [
    {
     "name": "stdout",
     "output_type": "stream",
     "text": [
      "True\n"
     ]
    }
   ],
   "source": [
    "if b'-21345' in [b\"S\",b\"South\"] or b\"-2345\" < b\"0\":\n",
    "    print(\"True\")"
   ]
  },
  {
   "cell_type": "code",
   "execution_count": 11,
   "metadata": {},
   "outputs": [
    {
     "data": {
      "text/plain": [
       "'234'"
      ]
     },
     "execution_count": 11,
     "metadata": {},
     "output_type": "execute_result"
    }
   ],
   "source": [
    "b'234'.decode()"
   ]
  },
  {
   "cell_type": "code",
   "execution_count": 12,
   "metadata": {},
   "outputs": [
    {
     "ename": "ExpatError",
     "evalue": "not well-formed (invalid token): line 5, column 0",
     "output_type": "error",
     "traceback": [
      "\u001b[1;31m---------------------------------------------------------------------------\u001b[0m",
      "\u001b[1;31mExpatError\u001b[0m                                Traceback (most recent call last)",
      "\u001b[1;32m<ipython-input-12-80f1fdda093d>\u001b[0m in \u001b[0;36m<module>\u001b[1;34m\u001b[0m\n\u001b[0;32m     35\u001b[0m \u001b[1;33m<\u001b[0m\u001b[1;33m/\u001b[0m\u001b[0mrdf\u001b[0m\u001b[1;33m:\u001b[0m\u001b[0mRDF\u001b[0m\u001b[1;33m>\u001b[0m\u001b[0;31m'\u001b[0m\u001b[1;33m\u001b[0m\u001b[1;33m\u001b[0m\u001b[0m\n\u001b[0;32m     36\u001b[0m \u001b[1;33m\u001b[0m\u001b[0m\n\u001b[1;32m---> 37\u001b[1;33m \u001b[0mxmp_od\u001b[0m \u001b[1;33m=\u001b[0m \u001b[0mxmltodict\u001b[0m\u001b[1;33m.\u001b[0m\u001b[0mparse\u001b[0m\u001b[1;33m(\u001b[0m\u001b[0mxmp_str\u001b[0m\u001b[1;33m)\u001b[0m\u001b[1;33m\u001b[0m\u001b[1;33m\u001b[0m\u001b[0m\n\u001b[0m\u001b[0;32m     38\u001b[0m \u001b[0mxmp\u001b[0m \u001b[1;33m=\u001b[0m \u001b[0mxmp_od\u001b[0m\u001b[1;33m.\u001b[0m\u001b[0mget\u001b[0m\u001b[1;33m(\u001b[0m\u001b[1;34m\"rdf:RDF\"\u001b[0m\u001b[1;33m)\u001b[0m\u001b[1;33m.\u001b[0m\u001b[0mget\u001b[0m\u001b[1;33m(\u001b[0m\u001b[1;34m\"rdf:Description\"\u001b[0m\u001b[1;33m)\u001b[0m\u001b[1;33m\u001b[0m\u001b[1;33m\u001b[0m\u001b[0m\n",
      "\u001b[1;32mc:\\users\\marti\\appdata\\local\\programs\\python\\python38\\lib\\site-packages\\xmltodict.py\u001b[0m in \u001b[0;36mparse\u001b[1;34m(xml_input, encoding, expat, process_namespaces, namespace_separator, disable_entities, **kwargs)\u001b[0m\n\u001b[0;32m    325\u001b[0m         \u001b[0mparser\u001b[0m\u001b[1;33m.\u001b[0m\u001b[0mParseFile\u001b[0m\u001b[1;33m(\u001b[0m\u001b[0mxml_input\u001b[0m\u001b[1;33m)\u001b[0m\u001b[1;33m\u001b[0m\u001b[1;33m\u001b[0m\u001b[0m\n\u001b[0;32m    326\u001b[0m     \u001b[1;32melse\u001b[0m\u001b[1;33m:\u001b[0m\u001b[1;33m\u001b[0m\u001b[1;33m\u001b[0m\u001b[0m\n\u001b[1;32m--> 327\u001b[1;33m         \u001b[0mparser\u001b[0m\u001b[1;33m.\u001b[0m\u001b[0mParse\u001b[0m\u001b[1;33m(\u001b[0m\u001b[0mxml_input\u001b[0m\u001b[1;33m,\u001b[0m \u001b[1;32mTrue\u001b[0m\u001b[1;33m)\u001b[0m\u001b[1;33m\u001b[0m\u001b[1;33m\u001b[0m\u001b[0m\n\u001b[0m\u001b[0;32m    328\u001b[0m     \u001b[1;32mreturn\u001b[0m \u001b[0mhandler\u001b[0m\u001b[1;33m.\u001b[0m\u001b[0mitem\u001b[0m\u001b[1;33m\u001b[0m\u001b[1;33m\u001b[0m\u001b[0m\n\u001b[0;32m    329\u001b[0m \u001b[1;33m\u001b[0m\u001b[0m\n",
      "\u001b[1;31mExpatError\u001b[0m: not well-formed (invalid token): line 5, column 0"
     ]
    }
   ],
   "source": [
    "import xmltodict\n",
    "\n",
    "xmp_str = b'<rdf:RDF xmlns:rdf=\"http://www.w3.org/1999/02/22-rdf-syntax-ns#\">\\r\\n\\\n",
    "<rdf:Description rdf:about=\"\"\\r\\n\\\n",
    "xmlns:Camera=\"http://pix4d.com/camera/1.0/\"\\r\\n\\\n",
    "xmlns:FLIR=\"http://ns.flir.com/xmp/1.0/\"\\r\\n\\\n",
    "<Camera:BandName>\\r\\n<rdf:Seq>\\r\\n\\\n",
    "<rdf:li>LWIR</rdf:li>\\r\\n\\\n",
    "</rdf:Seq>\\r\\n</Camera:BandName>\\r\\n\\\n",
    "<Camera:CentralWavelength>\\r\\n\\\n",
    "<rdf:Seq>\\r\\n<rdf:li>10000</rdf:li>\\r\\n</rdf:Seq>\\r\\n\\\n",
    "</Camera:CentralWavelength>\\r\\n\\\n",
    "<Camera:WavelengthFWHM>\\r\\n<rdf:Seq>\\r\\n<rdf:li>4500</rdf:li>\\r\\n</rdf:Seq>\\r\\n</Camera:WavelengthFWHM>\\r\\n\\\n",
    "<Camera:TlinearGain>0.00</Camera:TlinearGain>\\r\\n\\\n",
    "<Camera:Yaw>0/100</Camera:Yaw>\\r\\n\\\n",
    "<Camera:Pitch>0/100</Camera:Pitch>\\r\\n\\\n",
    "<Camera:Roll>0/100</Camera:Roll>\\r\\n\\\n",
    "<Camera:GPSXYAccuracy>0.00</Camera:GPSXYAccuracy>\\r\\n\\\n",
    "<Camera:GPSZAccuracy>0.00</Camera:GPSZAccuracy>\\r\\n\\\n",
    "<Camera:GyroRate>0.00</Camera:GyroRate>\\r\\n\\\n",
    "<Camera:DetectorBitDepth>16</Camera:DetectorBitDepth>\\r\\n\\\n",
    "<Camera:IsNormalized>0</Camera:IsNormalized>\\r\\n\\\n",
    "<FLIR:MAVVersionID>0.3.0.0</FLIR:MAVVersionID>\\r\\n\\\n",
    "<FLIR:MAVComponentID>100</FLIR:MAVComponentID>\\r\\n\\\n",
    "<FLIR:MAVRelativeAltitude>-327/1000</FLIR:MAVRelativeAltitude>\\r\\n\\\n",
    "<FLIR:MAVRateOfClimbRef>M</FLIR:MAVRateOfClimbRef>\\r\\n\\\n",
    "<FLIR:MAVRateOfClimb>0/1000</FLIR:MAVRateOfClimb>\\r\\n\\\n",
    "<FLIR:MAVYaw>2009/100</FLIR:MAVYaw>\\r\\n\\\n",
    "<FLIR:MAVPitch>-136/100</FLIR:MAVPitch>\\r\\n\\\n",
    "<FLIR:MAVRoll>-102/100</FLIR:MAVRoll>\\r\\n\\\n",
    "<FLIR:MAVYawRate>4/100</FLIR:MAVYawRate>\\r\\n\\\n",
    "<FLIR:MAVPitchRate>-10/100</FLIR:MAVPitchRate>\\r\\n\\\n",
    "<FLIR:MAVRollRate>-10/100</FLIR:MAVRollRate>\\r\\n\\\n",
    "</rdf:Description>\\r\\n\\\n",
    "</rdf:RDF>'\n",
    "\n",
    "xmp_od = xmltodict.parse(xmp_str)\n",
    "xmp = xmp_od.get(\"rdf:RDF\").get(\"rdf:Description\")"
   ]
  },
  {
   "cell_type": "code",
   "execution_count": 14,
   "metadata": {},
   "outputs": [
    {
     "data": {
      "text/plain": [
       "OrderedDict([('rdf:RDF',\n",
       "              OrderedDict([('@xmlns:rdf',\n",
       "                            'http://www.w3.org/1999/02/22-rdf-syntax-ns#'),\n",
       "                           ('@xmlns:Camera', 'http://pix4d.com/camera/1.0/'),\n",
       "                           ('@xmlns:FLIR', 'http://ns.flir.com/xmp/1.0/'),\n",
       "                           ('rdf:Description',\n",
       "                            OrderedDict([('@rdf:about', ''),\n",
       "                                         ('Camera:BandName',\n",
       "                                          OrderedDict([('rdf:Seq',\n",
       "                                                        OrderedDict([('rdf:li',\n",
       "                                                                      'LWIR')]))])),\n",
       "                                         ('Camera:CentralWavelength',\n",
       "                                          OrderedDict([('rdf:Seq',\n",
       "                                                        OrderedDict([('rdf:li',\n",
       "                                                                      '10000')]))])),\n",
       "                                         ('Camera:WavelengthFWHM',\n",
       "                                          OrderedDict([('rdf:Seq',\n",
       "                                                        OrderedDict([('rdf:li',\n",
       "                                                                      '4500')]))])),\n",
       "                                         ('Camera:TlinearGain', '0.00'),\n",
       "                                         ('Camera:IsNormalized', '0'),\n",
       "                                         ('Camera:Yaw', '75/100'),\n",
       "                                         ('Camera:Pitch', '-4500/100'),\n",
       "                                         ('Camera:Roll', '0/100'),\n",
       "                                         ('Camera:GPSXYAccuracy', '0.00'),\n",
       "                                         ('Camera:GPSZAccuracy', '0.00'),\n",
       "                                         ('Camera:GyroRate', '0.00'),\n",
       "                                         ('Camera:DetectorBitDepth', '16'),\n",
       "                                         ('FLIR:MAVVersionID', '0.3.0.0'),\n",
       "                                         ('FLIR:MAVComponentID', '100'),\n",
       "                                         ('FLIR:MAVRelativeAltitude',\n",
       "                                          '432/1000'),\n",
       "                                         ('FLIR:MAVRateOfClimbRef', 'M'),\n",
       "                                         ('FLIR:MAVRateOfClimb', '-180/1000'),\n",
       "                                         ('FLIR:MAVYaw', '2819/100'),\n",
       "                                         ('FLIR:MAVPitch', '-7/100'),\n",
       "                                         ('FLIR:MAVRoll', '-52/100'),\n",
       "                                         ('FLIR:MAVYawRate', '10/100'),\n",
       "                                         ('FLIR:MAVPitchRate', '-50/100'),\n",
       "                                         ('FLIR:MAVRollRate', '-9/100')]))]))])"
      ]
     },
     "execution_count": 14,
     "metadata": {},
     "output_type": "execute_result"
    }
   ],
   "source": [
    "xmp_str2 = b'<rdf:RDF xmlns:rdf=\"http://www.w3.org/1999/02/22-rdf-syntax-ns#\"\\r\\nxmlns:Camera=\"http://pix4d.com/camera/1.0/\"\\r\\nxmlns:FLIR=\"http://ns.flir.com/xmp/1.0/\">\\r\\n<rdf:Description rdf:about=\"\">\\r\\n<Camera:BandName>\\r\\n<rdf:Seq>\\r\\n<rdf:li>LWIR</rdf:li>\\r\\n</rdf:Seq>\\r\\n</Camera:BandName>\\r\\n<Camera:CentralWavelength>\\r\\n<rdf:Seq>\\r\\n<rdf:li>10000</rdf:li>\\r\\n</rdf:Seq>\\r\\n</Camera:CentralWavelength>\\r\\n<Camera:WavelengthFWHM>\\r\\n<rdf:Seq>\\r\\n<rdf:li>4500</rdf:li>\\r\\n</rdf:Seq>\\r\\n</Camera:WavelengthFWHM>\\r\\n<Camera:TlinearGain>0.00</Camera:TlinearGain>\\r\\n<Camera:IsNormalized>0</Camera:IsNormalized>\\r\\n<Camera:Yaw>75/100</Camera:Yaw>\\r\\n<Camera:Pitch>-4500/100</Camera:Pitch>\\r\\n<Camera:Roll>0/100</Camera:Roll>\\r\\n<Camera:GPSXYAccuracy>0.00</Camera:GPSXYAccuracy>\\r\\n<Camera:GPSZAccuracy>0.00</Camera:GPSZAccuracy>\\r\\n<Camera:GyroRate>0.00</Camera:GyroRate>\\r\\n<Camera:DetectorBitDepth>16</Camera:DetectorBitDepth>\\r\\n<FLIR:MAVVersionID>0.3.0.0</FLIR:MAVVersionID>\\r\\n<FLIR:MAVComponentID>100</FLIR:MAVComponentID>\\r\\n<FLIR:MAVRelativeAltitude>432/1000</FLIR:MAVRelativeAltitude>\\r\\n<FLIR:MAVRateOfClimbRef>M</FLIR:MAVRateOfClimbRef>\\r\\n<FLIR:MAVRateOfClimb>-180/1000</FLIR:MAVRateOfClimb>\\r\\n<FLIR:MAVYaw>2819/100</FLIR:MAVYaw>\\r\\n<FLIR:MAVPitch>-7/100</FLIR:MAVPitch>\\r\\n<FLIR:MAVRoll>-52/100</FLIR:MAVRoll>\\r\\n<FLIR:MAVYawRate>10/100</FLIR:MAVYawRate>\\r\\n<FLIR:MAVPitchRate>-50/100</FLIR:MAVPitchRate>\\r\\n<FLIR:MAVRollRate>-9/100</FLIR:MAVRollRate>\\r\\n</rdf:Description>\\r\\n</rdf:RDF>'\n",
    "\n",
    "xmp_od2 = xmltodict.parse(xmp_str2)\n",
    "xmp_2 = xmp_od2.get(\"rdf:RDF\").get(\"rdf:Description\")\n",
    "xmp_od2"
   ]
  },
  {
   "cell_type": "code",
   "execution_count": 15,
   "metadata": {},
   "outputs": [
    {
     "ename": "SyntaxError",
     "evalue": "unmatched ']' (<ipython-input-15-bcd45ff9d5ca>, line 7)",
     "output_type": "error",
     "traceback": [
      "\u001b[1;36m  File \u001b[1;32m\"<ipython-input-15-bcd45ff9d5ca>\"\u001b[1;36m, line \u001b[1;32m7\u001b[0m\n\u001b[1;33m    if type(v) == dict]:\u001b[0m\n\u001b[1;37m                      ^\u001b[0m\n\u001b[1;31mSyntaxError\u001b[0m\u001b[1;31m:\u001b[0m unmatched ']'\n"
     ]
    }
   ],
   "source": [
    "import nested\n",
    "\n",
    "def makecaseinsensitive(k,v,**kwargs): \n",
    "    '''\n",
    "    this callback function makes all keys of the dicts insensitive \n",
    "    '''\n",
    "    if type(v) == dict]:\n",
    "        k = k.lower()\n",
    "    elif type(v) == list and len(v) == 1 and type(v[0]) == dict:\n",
    "        if list(v[0].keys()) == [str(i) for i in range(0,len(v[0]))]:\n",
    "            v = list(v[0].values())\n",
    "        else:\n",
    "            v = v[0]\n",
    "    return v\n",
    "\n",
    "n = nested.Nested(xmp_od2,)\n",
    "n.data"
   ]
  },
  {
   "cell_type": "code",
   "execution_count": 16,
   "metadata": {},
   "outputs": [
    {
     "name": "stderr",
     "output_type": "stream",
     "text": [
      "<ipython-input-16-c379620bb07e>:1: DeprecationWarning: Using or importing the ABCs from 'collections' instead of from 'collections.abc' is deprecated since Python 3.3, and in 3.9 it will stop working\n",
      "  from collections import Mapping\n"
     ]
    }
   ],
   "source": [
    "\n",
    "\n",
    "from collections import Mapping\n",
    "\n",
    "class CaseInsensitiveDict(Mapping):\n",
    "    def __init__(self, d):\n",
    "        self._d = d\n",
    "        self._s = dict((k.lower(), k) for k in d)\n",
    "    def __contains__(self, k):\n",
    "        return k.lower() in self._s\n",
    "    def __len__(self):\n",
    "        return len(self._s)\n",
    "    def __iter__(self):\n",
    "        return iter(self._s)\n",
    "    def __getitem__(self, k):\n",
    "        return self._d[self._s[k.lower()]]\n",
    "    def actual_key_case(self, k):\n",
    "        return self._s.get(k.lower())"
   ]
  },
  {
   "cell_type": "code",
   "execution_count": 17,
   "metadata": {},
   "outputs": [
    {
     "ename": "IndentationError",
     "evalue": "expected an indented block (<ipython-input-17-5058acb006f9>, line 28)",
     "output_type": "error",
     "traceback": [
      "\u001b[1;36m  File \u001b[1;32m\"<ipython-input-17-5058acb006f9>\"\u001b[1;36m, line \u001b[1;32m28\u001b[0m\n\u001b[1;33m    dictneu={}\u001b[0m\n\u001b[1;37m    ^\u001b[0m\n\u001b[1;31mIndentationError\u001b[0m\u001b[1;31m:\u001b[0m expected an indented block\n"
     ]
    }
   ],
   "source": [
    "from functools import reduce  # forward compatibility for Python 3\n",
    "import operator\n",
    "\n",
    "def dict_generator(indict, pre=None):\n",
    "    pre = pre[:] if pre else []\n",
    "    if isinstance(indict, dict):\n",
    "        for key, value in indict.items():\n",
    "            if isinstance(value, dict):\n",
    "                for d in dict_generator(value, pre + [key]):\n",
    "                    yield d\n",
    "            elif isinstance(value, list) or isinstance(value, tuple):\n",
    "                for v in value:\n",
    "                    for d in dict_generator(v, pre + [key]):\n",
    "                        yield d\n",
    "            else:\n",
    "                yield pre + [key, value]\n",
    "    else:\n",
    "        yield pre + [indict]\n",
    "        \n",
    "def getFromDict(dataDict, mapList):\n",
    "    return reduce(operator.getitem, mapList, dataDict)\n",
    "\n",
    "def setInDict(dataDict, mapList, value):\n",
    "    getFromDict(dataDict, mapList[:-1])[mapList[-1]] = value\n",
    "\n",
    "def buildDict():\n",
    "    \n",
    "dictneu={}\n",
    "pre = []\n",
    "for i in dict_generator(xmp_od2):    \n",
    "    try:\n",
    "        setInDict(dictneu,pre,i[-1])\n",
    "    \n",
    "    \n",
    "    for j in i[:-2]:\n",
    "        pre.append(j)\n",
    "        print(j,pre)\n",
    "        setInDict(dictneu,pre,{})\n",
    "    pre.append(i[-1])\n",
    "    setInDict(dictneu,pre,i[-1])\n",
    "    del pre[-1]\n",
    "    #pre = []\n",
    "    #print(\"last\",i[-1])\n",
    "dictneu"
   ]
  },
  {
   "cell_type": "code",
   "execution_count": 18,
   "metadata": {},
   "outputs": [
    {
     "data": {
      "text/plain": [
       "{'key1': {'InneR': 'Hello', 'In2': {'BLA': 'Foo'}}, 'key2': 'World'}"
      ]
     },
     "execution_count": 18,
     "metadata": {},
     "output_type": "execute_result"
    }
   ],
   "source": [
    "my_dict = {'KEY1': {\"InneR\":\"Hello\",\"In2\":{\"BLA\":\"Foo\"}}, 'Key2': \"World\"} \n",
    "def lowerkeys(dic):\n",
    "    return dict((k.lower(), v) for k, v in dic.items()) \n",
    "lowerkeys(my_dict)"
   ]
  },
  {
   "cell_type": "code",
   "execution_count": 25,
   "metadata": {},
   "outputs": [
    {
     "data": {
      "text/plain": [
       "2.1"
      ]
     },
     "execution_count": 25,
     "metadata": {},
     "output_type": "execute_result"
    }
   ],
   "source": [
    "\n"
   ]
  },
  {
   "cell_type": "code",
   "execution_count": 23,
   "metadata": {},
   "outputs": [
    {
     "data": {
      "text/plain": [
       "{('KEY1', 'InneR'): 'Hello', ('KEY1', 'In2', 'BLA'): 'Foo', ('Key2',): 'World'}"
      ]
     },
     "execution_count": 23,
     "metadata": {},
     "output_type": "execute_result"
    }
   ],
   "source": [
    "flatten_dict.flatten(my_dict)"
   ]
  },
  {
   "cell_type": "code",
   "execution_count": 19,
   "metadata": {},
   "outputs": [
    {
     "ename": "NameError",
     "evalue": "name 'reduce' is not defined",
     "output_type": "error",
     "traceback": [
      "\u001b[1;31m---------------------------------------------------------------------------\u001b[0m",
      "\u001b[1;31mNameError\u001b[0m                                 Traceback (most recent call last)",
      "\u001b[1;32m<ipython-input-19-fbf545d324f7>\u001b[0m in \u001b[0;36m<module>\u001b[1;34m\u001b[0m\n\u001b[0;32m      1\u001b[0m \u001b[1;32mdef\u001b[0m \u001b[0mdeep_get\u001b[0m\u001b[1;33m(\u001b[0m\u001b[0mdictionary\u001b[0m\u001b[1;33m,\u001b[0m \u001b[1;33m*\u001b[0m\u001b[0mkeys\u001b[0m\u001b[1;33m)\u001b[0m\u001b[1;33m:\u001b[0m\u001b[1;33m\u001b[0m\u001b[1;33m\u001b[0m\u001b[0m\n\u001b[0;32m      2\u001b[0m     \u001b[1;32mreturn\u001b[0m \u001b[0mreduce\u001b[0m\u001b[1;33m(\u001b[0m\u001b[1;32mlambda\u001b[0m \u001b[0md\u001b[0m\u001b[1;33m,\u001b[0m \u001b[0mkey\u001b[0m\u001b[1;33m:\u001b[0m \u001b[0md\u001b[0m\u001b[1;33m.\u001b[0m\u001b[0mget\u001b[0m\u001b[1;33m(\u001b[0m\u001b[0mkey\u001b[0m\u001b[1;33m)\u001b[0m \u001b[1;32mif\u001b[0m \u001b[0md\u001b[0m \u001b[1;32melse\u001b[0m \u001b[1;32mNone\u001b[0m\u001b[1;33m,\u001b[0m \u001b[0mkeys\u001b[0m\u001b[1;33m,\u001b[0m \u001b[0mdictionary\u001b[0m\u001b[1;33m)\u001b[0m\u001b[1;33m\u001b[0m\u001b[1;33m\u001b[0m\u001b[0m\n\u001b[1;32m----> 3\u001b[1;33m \u001b[0mdeep_get\u001b[0m\u001b[1;33m(\u001b[0m\u001b[0mmy_dict\u001b[0m\u001b[1;33m,\u001b[0m \u001b[1;34m\"KEY1\"\u001b[0m\u001b[1;33m,\u001b[0m\u001b[1;34m\"In22\"\u001b[0m\u001b[1;33m)\u001b[0m\u001b[1;33m\u001b[0m\u001b[1;33m\u001b[0m\u001b[0m\n\u001b[0m",
      "\u001b[1;32m<ipython-input-19-fbf545d324f7>\u001b[0m in \u001b[0;36mdeep_get\u001b[1;34m(dictionary, *keys)\u001b[0m\n\u001b[0;32m      1\u001b[0m \u001b[1;32mdef\u001b[0m \u001b[0mdeep_get\u001b[0m\u001b[1;33m(\u001b[0m\u001b[0mdictionary\u001b[0m\u001b[1;33m,\u001b[0m \u001b[1;33m*\u001b[0m\u001b[0mkeys\u001b[0m\u001b[1;33m)\u001b[0m\u001b[1;33m:\u001b[0m\u001b[1;33m\u001b[0m\u001b[1;33m\u001b[0m\u001b[0m\n\u001b[1;32m----> 2\u001b[1;33m     \u001b[1;32mreturn\u001b[0m \u001b[0mreduce\u001b[0m\u001b[1;33m(\u001b[0m\u001b[1;32mlambda\u001b[0m \u001b[0md\u001b[0m\u001b[1;33m,\u001b[0m \u001b[0mkey\u001b[0m\u001b[1;33m:\u001b[0m \u001b[0md\u001b[0m\u001b[1;33m.\u001b[0m\u001b[0mget\u001b[0m\u001b[1;33m(\u001b[0m\u001b[0mkey\u001b[0m\u001b[1;33m)\u001b[0m \u001b[1;32mif\u001b[0m \u001b[0md\u001b[0m \u001b[1;32melse\u001b[0m \u001b[1;32mNone\u001b[0m\u001b[1;33m,\u001b[0m \u001b[0mkeys\u001b[0m\u001b[1;33m,\u001b[0m \u001b[0mdictionary\u001b[0m\u001b[1;33m)\u001b[0m\u001b[1;33m\u001b[0m\u001b[1;33m\u001b[0m\u001b[0m\n\u001b[0m\u001b[0;32m      3\u001b[0m \u001b[0mdeep_get\u001b[0m\u001b[1;33m(\u001b[0m\u001b[0mmy_dict\u001b[0m\u001b[1;33m,\u001b[0m \u001b[1;34m\"KEY1\"\u001b[0m\u001b[1;33m,\u001b[0m\u001b[1;34m\"In22\"\u001b[0m\u001b[1;33m)\u001b[0m\u001b[1;33m\u001b[0m\u001b[1;33m\u001b[0m\u001b[0m\n",
      "\u001b[1;31mNameError\u001b[0m: name 'reduce' is not defined"
     ]
    }
   ],
   "source": [
    "def deep_get(dictionary, *keys):\n",
    "    return reduce(lambda d, key: d.get(key) if d else None, keys, dictionary)\n",
    "deep_get(my_dict, \"KEY1\",\"In22\")"
   ]
  },
  {
   "cell_type": "code",
   "execution_count": 20,
   "metadata": {},
   "outputs": [
    {
     "name": "stderr",
     "output_type": "stream",
     "text": [
      "<ipython-input-20-021befedaaaf>:7: DeprecationWarning: Using or importing the ABCs from 'collections' instead of from 'collections.abc' is deprecated since Python 3.3, and in 3.9 it will stop working\n",
      "  if isinstance(v, collections.MutableMapping):\n"
     ]
    },
    {
     "data": {
      "text/plain": [
       "{'KEY1_InneR': 'Hello', 'KEY1_In2_BLA': 'Foo', 'Key2': 'World'}"
      ]
     },
     "execution_count": 20,
     "metadata": {},
     "output_type": "execute_result"
    }
   ],
   "source": [
    "import collections\n",
    "\n",
    "def flatten(d, parent_key='', sep='_'):\n",
    "    items = []\n",
    "    for k, v in d.items():\n",
    "        new_key = parent_key + sep + k if parent_key else k\n",
    "        if isinstance(v, collections.MutableMapping):\n",
    "            items.extend(flatten(v, new_key, sep=sep).items())\n",
    "        else:\n",
    "            items.append((new_key, v))\n",
    "    return dict(items)\n",
    "flatten(my_dict)"
   ]
  },
  {
   "cell_type": "code",
   "execution_count": 21,
   "metadata": {},
   "outputs": [
    {
     "ename": "IndentationError",
     "evalue": "expected an indented block (<ipython-input-21-664b4af0f75a>, line 5)",
     "output_type": "error",
     "traceback": [
      "\u001b[1;36m  File \u001b[1;32m\"<ipython-input-21-664b4af0f75a>\"\u001b[1;36m, line \u001b[1;32m5\u001b[0m\n\u001b[1;33m    if not j in dictneu:\u001b[0m\n\u001b[1;37m    ^\u001b[0m\n\u001b[1;31mIndentationError\u001b[0m\u001b[1;31m:\u001b[0m expected an indented block\n"
     ]
    }
   ],
   "source": [
    "dictneu = {}\n",
    "for i in dict_generator(xmp_od2): \n",
    "    print(\"keys:\", i[:-1], \"value:\", i[-1])\n",
    "    for j in i[:-1]:\n",
    "    if not j in dictneu:"
   ]
  },
  {
   "cell_type": "code",
   "execution_count": null,
   "metadata": {},
   "outputs": [],
   "source": [
    "xmp_od2"
   ]
  },
  {
   "cell_type": "code",
   "execution_count": null,
   "metadata": {},
   "outputs": [],
   "source": [
    "mydic = {\"a\":{\"b\":{\"c\":\"Wert\"}}}\n",
    "mylist = [\"a\",\"b\",\"c\"]\n",
    "pre = []\n",
    "for i in mylist:\n",
    "    pre.append(i)\n",
    "    print (pre)"
   ]
  },
  {
   "cell_type": "code",
   "execution_count": null,
   "metadata": {},
   "outputs": [],
   "source": [
    "if \"a\" in mydic:\n",
    "    print(\"true\")"
   ]
  },
  {
   "cell_type": "code",
   "execution_count": null,
   "metadata": {},
   "outputs": [],
   "source": [
    "rdf = xmp_od2.get(next(iter(xmp_od2)))\n",
    "def get_ci(dic,key_ci):\n",
    "    for k,v in dic.items():\n",
    "        if k.lower() == key_ci:\n",
    "            return v\n",
    "        \n"
   ]
  },
  {
   "cell_type": "code",
   "execution_count": null,
   "metadata": {},
   "outputs": [],
   "source": [
    "get_ci(get_ci(xmp_od2,\"rdf:rdf\"),\"rdf:description\")"
   ]
  },
  {
   "cell_type": "code",
   "execution_count": null,
   "metadata": {},
   "outputs": [],
   "source": [
    "newdict = {}\n",
    "for i in dict_generator(xmp_od2):\n",
    "    for j in i:\n",
    "        newdict[j]= \n",
    "#import string\n",
    "\n",
    "#dict(zip(map(str.lower,xmp_od2.keys()),xmp_od2.values()))\n"
   ]
  },
  {
   "cell_type": "code",
   "execution_count": null,
   "metadata": {},
   "outputs": [],
   "source": [
    "if xmp_str.find(b'http://ns.flir.com/xmp/1.0/\"\\r'):\n",
    "    if xmp_str.find(b'http://ns.flir.com/xmp/1.0/\">\\r') == -1:\n",
    "        xmp_str = xmp_str.replace(b'http://ns.flir.com/xmp/1.0/\"\\r',b'http://ns.flir.com/xmp/1.0/\">\\r')\n",
    "        "
   ]
  },
  {
   "cell_type": "code",
   "execution_count": null,
   "metadata": {},
   "outputs": [],
   "source": [
    "xmp_str"
   ]
  },
  {
   "cell_type": "code",
   "execution_count": null,
   "metadata": {},
   "outputs": [],
   "source": [
    "class CaseInsensitiveDict(dict):\n",
    "    def __setitem__(self, key, value):\n",
    "        super(CaseInsensitiveDict, self).__setitem__(key.lower(), value)\n",
    "\n",
    "    def __getitem__(self, key):\n",
    "        return super(CaseInsensitiveDict, self).__getitem__(key.lower())"
   ]
  },
  {
   "cell_type": "code",
   "execution_count": null,
   "metadata": {},
   "outputs": [],
   "source": [
    "class CaseInsensitiveDict(dict):\n",
    "    @classmethod\n",
    "    def _k(cls, key):\n",
    "        return key.lower() if isinstance(key, basestring) else key\n",
    "\n",
    "    def __init__(self, *args, **kwargs):\n",
    "        super(CaseInsensitiveDict, self).__init__(*args, **kwargs)\n",
    "        self._convert_keys()\n",
    "    def __getitem__(self, key):\n",
    "        return super(CaseInsensitiveDict, self).__getitem__(self.__class__._k(key))\n",
    "    def __setitem__(self, key, value):\n",
    "        super(CaseInsensitiveDict, self).__setitem__(self.__class__._k(key), value)\n",
    "    def __delitem__(self, key):\n",
    "        return super(CaseInsensitiveDict, self).__delitem__(self.__class__._k(key))\n",
    "    def __contains__(self, key):\n",
    "        return super(CaseInsensitiveDict, self).__contains__(self.__class__._k(key))\n",
    "    def has_key(self, key):\n",
    "        return super(CaseInsensitiveDict, self).has_key(self.__class__._k(key))\n",
    "    def pop(self, key, *args, **kwargs):\n",
    "        return super(CaseInsensitiveDict, self).pop(self.__class__._k(key), *args, **kwargs)\n",
    "    def get(self, key, *args, **kwargs):\n",
    "        return super(CaseInsensitiveDict, self).get(self.__class__._k(key), *args, **kwargs)\n",
    "    def setdefault(self, key, *args, **kwargs):\n",
    "        return super(CaseInsensitiveDict, self).setdefault(self.__class__._k(key), *args, **kwargs)\n",
    "    def update(self, E={}, **F):\n",
    "        super(CaseInsensitiveDict, self).update(self.__class__(E))\n",
    "        super(CaseInsensitiveDict, self).update(self.__class__(**F))\n",
    "    def _convert_keys(self):\n",
    "        for k in list(self.keys()):\n",
    "            v = super(CaseInsensitiveDict, self).pop(k)\n",
    "            self.__setitem__(k, v)"
   ]
  },
  {
   "cell_type": "code",
   "execution_count": null,
   "metadata": {},
   "outputs": [],
   "source": [
    "\n",
    "CaseInsensitiveDict(xmp_2)\n",
    "#for i in xmp_2:\n",
    "#    print(i)"
   ]
  },
  {
   "cell_type": "code",
   "execution_count": null,
   "metadata": {},
   "outputs": [],
   "source": [
    "from bs4 import BeautifulSoup\n",
    "xmp_bs = BeautifulSoup(xmp_str,\"lxml\")\n",
    "xmp_od = xmltodict.parse(bytes(str(xmp_bs.find(\"rdf:rdf\")),\"utf-8\"))\n",
    "xmpbs = xmp_od.get(\"rdf:rdf\").get(\"rdf:description\")\n",
    "xmpbs"
   ]
  },
  {
   "cell_type": "code",
   "execution_count": null,
   "metadata": {},
   "outputs": [],
   "source": [
    "xmpbs.get(\"flir:mavroll\")"
   ]
  },
  {
   "cell_type": "code",
   "execution_count": null,
   "metadata": {},
   "outputs": [],
   "source": [
    "bytes(str(xmp_bs.find(\"rdf:rdf\")),\"utf-8\")"
   ]
  },
  {
   "cell_type": "code",
   "execution_count": null,
   "metadata": {},
   "outputs": [],
   "source": [
    "xmp_od = xmltodict.parse(xmp)\n",
    "xmp = xmp_od.get(\"rdf:RDF\").get(\"rdf:Description\")\n"
   ]
  },
  {
   "cell_type": "code",
   "execution_count": null,
   "metadata": {},
   "outputs": [],
   "source": []
  }
 ],
 "metadata": {
  "kernelspec": {
   "display_name": "Python 3",
   "language": "python",
   "name": "python3"
  },
  "language_info": {
   "codemirror_mode": {
    "name": "ipython",
    "version": 3
   },
   "file_extension": ".py",
   "mimetype": "text/x-python",
   "name": "python",
   "nbconvert_exporter": "python",
   "pygments_lexer": "ipython3",
   "version": "3.8.4"
  }
 },
 "nbformat": 4,
 "nbformat_minor": 4
}

{
 "cells": [
  {
   "cell_type": "code",
   "execution_count": 2,
   "metadata": {},
   "outputs": [
    {
     "ename": "ModuleNotFoundError",
     "evalue": "No module named 'piexif'",
     "output_type": "error",
     "traceback": [
      "\u001b[1;31m---------------------------------------------------------------------------\u001b[0m",
      "\u001b[1;31mModuleNotFoundError\u001b[0m                       Traceback (most recent call last)",
      "\u001b[1;32m<ipython-input-2-47f724236971>\u001b[0m in \u001b[0;36m<module>\u001b[1;34m\u001b[0m\n\u001b[1;32m----> 1\u001b[1;33m \u001b[1;32mfrom\u001b[0m \u001b[0mimagelib\u001b[0m \u001b[1;32mimport\u001b[0m \u001b[0mImage\u001b[0m\u001b[1;33m\u001b[0m\u001b[1;33m\u001b[0m\u001b[0m\n\u001b[0m\u001b[0;32m      2\u001b[0m \u001b[1;32mfrom\u001b[0m \u001b[0mjfif_utils\u001b[0m \u001b[1;32mimport\u001b[0m \u001b[1;33m*\u001b[0m\u001b[1;33m\u001b[0m\u001b[1;33m\u001b[0m\u001b[0m\n\u001b[0;32m      3\u001b[0m \u001b[1;32mimport\u001b[0m \u001b[0mos\u001b[0m\u001b[1;33m\u001b[0m\u001b[1;33m\u001b[0m\u001b[0m\n\u001b[0;32m      4\u001b[0m \u001b[1;32mfrom\u001b[0m \u001b[0mdatetime\u001b[0m \u001b[1;32mimport\u001b[0m \u001b[0mdatetime\u001b[0m\u001b[1;33m\u001b[0m\u001b[1;33m\u001b[0m\u001b[0m\n\u001b[0;32m      5\u001b[0m \u001b[1;32mimport\u001b[0m \u001b[0mmatplotlib\u001b[0m\u001b[1;33m.\u001b[0m\u001b[0mpyplot\u001b[0m \u001b[1;32mas\u001b[0m \u001b[0mplt\u001b[0m\u001b[1;33m\u001b[0m\u001b[1;33m\u001b[0m\u001b[0m\n",
      "\u001b[1;32m~\\OneDrive\\Dokumente\\GitHub\\poitagger2\\poitagger\\poitagger\\imagelib.py\u001b[0m in \u001b[0;36m<module>\u001b[1;34m\u001b[0m\n\u001b[0;32m      7\u001b[0m \u001b[1;32mimport\u001b[0m \u001b[0mnumpy\u001b[0m \u001b[1;32mas\u001b[0m \u001b[0mnp\u001b[0m\u001b[1;33m\u001b[0m\u001b[1;33m\u001b[0m\u001b[0m\n\u001b[0;32m      8\u001b[0m \u001b[1;33m\u001b[0m\u001b[0m\n\u001b[1;32m----> 9\u001b[1;33m \u001b[1;32mfrom\u001b[0m \u001b[0mimglib\u001b[0m \u001b[1;32mimport\u001b[0m \u001b[1;33m*\u001b[0m\u001b[1;33m\u001b[0m\u001b[1;33m\u001b[0m\u001b[0m\n\u001b[0m\u001b[0;32m     10\u001b[0m \u001b[1;32mfrom\u001b[0m \u001b[0mimglib\u001b[0m \u001b[1;32mimport\u001b[0m \u001b[0mpiexif\u001b[0m\u001b[1;33m\u001b[0m\u001b[1;33m\u001b[0m\u001b[0m\n\u001b[0;32m     11\u001b[0m \u001b[1;32mimport\u001b[0m \u001b[0mjfif\u001b[0m\u001b[1;33m\u001b[0m\u001b[1;33m\u001b[0m\u001b[0m\n",
      "\u001b[1;32m~\\OneDrive\\Dokumente\\GitHub\\poitagger2\\poitagger\\poitagger\\imglib\\__init__.py\u001b[0m in \u001b[0;36m<module>\u001b[1;34m\u001b[0m\n\u001b[0;32m     10\u001b[0m \u001b[1;33m\u001b[0m\u001b[0m\n\u001b[0;32m     11\u001b[0m \u001b[1;32mfor\u001b[0m \u001b[0mpy\u001b[0m \u001b[1;32min\u001b[0m \u001b[1;33m[\u001b[0m\u001b[0mf\u001b[0m\u001b[1;33m[\u001b[0m\u001b[1;33m:\u001b[0m\u001b[1;33m-\u001b[0m\u001b[1;36m3\u001b[0m\u001b[1;33m]\u001b[0m \u001b[1;32mfor\u001b[0m \u001b[0mf\u001b[0m \u001b[1;32min\u001b[0m \u001b[0mos\u001b[0m\u001b[1;33m.\u001b[0m\u001b[0mlistdir\u001b[0m\u001b[1;33m(\u001b[0m\u001b[0mpath\u001b[0m\u001b[1;33m)\u001b[0m \u001b[1;32mif\u001b[0m \u001b[0mf\u001b[0m\u001b[1;33m.\u001b[0m\u001b[0mendswith\u001b[0m\u001b[1;33m(\u001b[0m\u001b[1;34m'.py'\u001b[0m\u001b[1;33m)\u001b[0m \u001b[1;32mand\u001b[0m \u001b[0mf\u001b[0m \u001b[1;33m!=\u001b[0m \u001b[1;34m'__init__.py'\u001b[0m \u001b[1;32mand\u001b[0m \u001b[0mf\u001b[0m \u001b[1;33m!=\u001b[0m \u001b[1;34m'base.py'\u001b[0m\u001b[1;33m]\u001b[0m\u001b[1;33m:\u001b[0m\u001b[1;33m\u001b[0m\u001b[1;33m\u001b[0m\u001b[0m\n\u001b[1;32m---> 12\u001b[1;33m     \u001b[0mmod\u001b[0m \u001b[1;33m=\u001b[0m \u001b[0m__import__\u001b[0m\u001b[1;33m(\u001b[0m\u001b[1;34m'.'\u001b[0m\u001b[1;33m.\u001b[0m\u001b[0mjoin\u001b[0m\u001b[1;33m(\u001b[0m\u001b[1;33m[\u001b[0m\u001b[0m__name__\u001b[0m\u001b[1;33m,\u001b[0m \u001b[0mpy\u001b[0m\u001b[1;33m]\u001b[0m\u001b[1;33m)\u001b[0m\u001b[1;33m,\u001b[0m \u001b[0mfromlist\u001b[0m\u001b[1;33m=\u001b[0m\u001b[1;33m[\u001b[0m\u001b[0mpy\u001b[0m\u001b[1;33m]\u001b[0m\u001b[1;33m)\u001b[0m\u001b[1;33m\u001b[0m\u001b[1;33m\u001b[0m\u001b[0m\n\u001b[0m\u001b[0;32m     13\u001b[0m     \u001b[0mclasses\u001b[0m \u001b[1;33m=\u001b[0m \u001b[1;33m[\u001b[0m\u001b[0mgetattr\u001b[0m\u001b[1;33m(\u001b[0m\u001b[0mmod\u001b[0m\u001b[1;33m,\u001b[0m \u001b[0mx\u001b[0m\u001b[1;33m)\u001b[0m \u001b[1;32mfor\u001b[0m \u001b[0mx\u001b[0m \u001b[1;32min\u001b[0m \u001b[0mdir\u001b[0m\u001b[1;33m(\u001b[0m\u001b[0mmod\u001b[0m\u001b[1;33m)\u001b[0m \u001b[1;32mif\u001b[0m \u001b[0misinstance\u001b[0m\u001b[1;33m(\u001b[0m\u001b[0mgetattr\u001b[0m\u001b[1;33m(\u001b[0m\u001b[0mmod\u001b[0m\u001b[1;33m,\u001b[0m \u001b[0mx\u001b[0m\u001b[1;33m)\u001b[0m\u001b[1;33m,\u001b[0m \u001b[0mtype\u001b[0m\u001b[1;33m)\u001b[0m\u001b[1;33m]\u001b[0m\u001b[1;33m\u001b[0m\u001b[1;33m\u001b[0m\u001b[0m\n\u001b[0;32m     14\u001b[0m     \u001b[1;32mfor\u001b[0m \u001b[0mcls\u001b[0m \u001b[1;32min\u001b[0m \u001b[0mclasses\u001b[0m\u001b[1;33m:\u001b[0m\u001b[1;33m\u001b[0m\u001b[1;33m\u001b[0m\u001b[0m\n",
      "\u001b[1;32m~\\OneDrive\\Dokumente\\GitHub\\poitagger2\\poitagger\\poitagger\\imglib\\dji.py\u001b[0m in \u001b[0;36m<module>\u001b[1;34m\u001b[0m\n\u001b[1;32m----> 1\u001b[1;33m \u001b[1;32mfrom\u001b[0m \u001b[1;33m.\u001b[0m\u001b[0mbase\u001b[0m \u001b[1;32mimport\u001b[0m \u001b[1;33m*\u001b[0m\u001b[1;33m\u001b[0m\u001b[1;33m\u001b[0m\u001b[0m\n\u001b[0m\u001b[0;32m      2\u001b[0m \u001b[1;33m\u001b[0m\u001b[0m\n\u001b[0;32m      3\u001b[0m \u001b[0mDEFAULT_WIDTH\u001b[0m \u001b[1;33m=\u001b[0m \u001b[1;36m640\u001b[0m\u001b[1;33m\u001b[0m\u001b[1;33m\u001b[0m\u001b[0m\n\u001b[0;32m      4\u001b[0m \u001b[0mDEFAULT_HEIGHT\u001b[0m \u001b[1;33m=\u001b[0m \u001b[1;36m512\u001b[0m\u001b[1;33m\u001b[0m\u001b[1;33m\u001b[0m\u001b[0m\n\u001b[0;32m      5\u001b[0m \u001b[1;33m\u001b[0m\u001b[0m\n",
      "\u001b[1;32m~\\OneDrive\\Dokumente\\GitHub\\poitagger2\\poitagger\\poitagger\\imglib\\base.py\u001b[0m in \u001b[0;36m<module>\u001b[1;34m\u001b[0m\n\u001b[0;32m     14\u001b[0m \u001b[1;33m\u001b[0m\u001b[0m\n\u001b[0;32m     15\u001b[0m \u001b[1;32mimport\u001b[0m \u001b[0mnested\u001b[0m\u001b[1;33m\u001b[0m\u001b[1;33m\u001b[0m\u001b[0m\n\u001b[1;32m---> 16\u001b[1;33m \u001b[1;32mimport\u001b[0m \u001b[0mpiexif\u001b[0m\u001b[1;33m\u001b[0m\u001b[1;33m\u001b[0m\u001b[0m\n\u001b[0m\u001b[0;32m     17\u001b[0m \u001b[1;32mfrom\u001b[0m \u001b[0mtags\u001b[0m \u001b[1;32mimport\u001b[0m \u001b[1;33m*\u001b[0m\u001b[1;33m\u001b[0m\u001b[1;33m\u001b[0m\u001b[0m\n\u001b[0;32m     18\u001b[0m \u001b[1;32mfrom\u001b[0m \u001b[0mjfif_utils\u001b[0m \u001b[1;32mimport\u001b[0m \u001b[1;33m*\u001b[0m\u001b[1;33m\u001b[0m\u001b[1;33m\u001b[0m\u001b[0m\n",
      "\u001b[1;31mModuleNotFoundError\u001b[0m: No module named 'piexif'"
     ]
    }
   ],
   "source": [
    "from imagelib import Image\n",
    "from jfif_utils import *\n",
    "import os\n",
    "from datetime import datetime\n",
    "import matplotlib.pyplot as plt\n",
    "from timezonefinder import TimezoneFinder\n",
    "import pytz\n",
    "path = \"G:/Geteilte Ablagen/thermal DRONES GmbH/Wildretter-Daten/verschiedene Kameras\"\n",
    "\n"
   ]
  },
  {
   "cell_type": "code",
   "execution_count": 7,
   "metadata": {},
   "outputs": [
    {
     "name": "stdout",
     "output_type": "stream",
     "text": [
      "{}\n"
     ]
    },
    {
     "ename": "KeyError",
     "evalue": "'Exif'",
     "output_type": "error",
     "traceback": [
      "\u001b[1;31m---------------------------------------------------------------------------\u001b[0m",
      "\u001b[1;31mKeyError\u001b[0m                                  Traceback (most recent call last)",
      "\u001b[1;32m<ipython-input-7-096eb60fe77c>\u001b[0m in \u001b[0;36m<module>\u001b[1;34m\u001b[0m\n\u001b[1;32m----> 1\u001b[1;33m \u001b[0mdji_matrice\u001b[0m \u001b[1;33m=\u001b[0m \u001b[0mImage\u001b[0m\u001b[1;33m(\u001b[0m\u001b[1;34m\"C:/WILDRETTER DATEN/2021_Mitterbacher/DJI_0389_R.jpg\"\u001b[0m\u001b[1;33m)\u001b[0m\u001b[1;33m\u001b[0m\u001b[1;33m\u001b[0m\u001b[0m\n\u001b[0m\u001b[0;32m      2\u001b[0m \u001b[0mdji_matrice\u001b[0m\u001b[1;33m.\u001b[0m\u001b[0mheader\u001b[0m\u001b[1;33m\u001b[0m\u001b[1;33m\u001b[0m\u001b[0m\n",
      "\u001b[1;32m~\\OneDrive\\Dokumente\\GitHub\\poitagger2\\poitagger\\poitagger\\imagelib.py\u001b[0m in \u001b[0;36mImage\u001b[1;34m(filepath, onlyheader)\u001b[0m\n\u001b[0;32m    154\u001b[0m         \u001b[1;32mif\u001b[0m \u001b[0mcls\u001b[0m\u001b[1;33m.\u001b[0m\u001b[0mis_registrar_for\u001b[0m\u001b[1;33m(\u001b[0m\u001b[0mparams\u001b[0m\u001b[1;33m)\u001b[0m\u001b[1;33m:\u001b[0m\u001b[1;33m\u001b[0m\u001b[1;33m\u001b[0m\u001b[0m\n\u001b[0;32m    155\u001b[0m             \u001b[0minstance\u001b[0m \u001b[1;33m=\u001b[0m  \u001b[0mcls\u001b[0m\u001b[1;33m(\u001b[0m\u001b[0mfilepath\u001b[0m\u001b[1;33m,\u001b[0m\u001b[0mifd\u001b[0m\u001b[1;33m,\u001b[0m\u001b[0mrawdata\u001b[0m\u001b[1;33m,\u001b[0m\u001b[0mimg\u001b[0m\u001b[1;33m,\u001b[0m\u001b[0monlyheader\u001b[0m\u001b[1;33m)\u001b[0m\u001b[1;33m\u001b[0m\u001b[1;33m\u001b[0m\u001b[0m\n\u001b[1;32m--> 156\u001b[1;33m \u001b[1;33m\u001b[0m\u001b[0m\n\u001b[0m\u001b[0;32m    157\u001b[0m             \u001b[1;32mreturn\u001b[0m \u001b[0minstance\u001b[0m\u001b[1;33m\u001b[0m\u001b[1;33m\u001b[0m\u001b[0m\n\u001b[0;32m    158\u001b[0m     \u001b[0mlogger\u001b[0m\u001b[1;33m.\u001b[0m\u001b[0merror\u001b[0m\u001b[1;33m(\u001b[0m\u001b[1;34m\"unknown fileformat\"\u001b[0m\u001b[1;33m)\u001b[0m\u001b[1;33m\u001b[0m\u001b[1;33m\u001b[0m\u001b[0m\n",
      "\u001b[1;32m~\\OneDrive\\Dokumente\\GitHub\\poitagger2\\poitagger\\poitagger\\imagelib.py\u001b[0m in \u001b[0;36m__init__\u001b[1;34m(self, filepath, ifd, rawdata, img, onlyheader)\u001b[0m\n\u001b[0;32m     51\u001b[0m         \u001b[0mself\u001b[0m\u001b[1;33m.\u001b[0m\u001b[0mload_xmp\u001b[0m\u001b[1;33m(\u001b[0m\u001b[0mrawdata\u001b[0m\u001b[1;33m)\u001b[0m\u001b[1;33m\u001b[0m\u001b[1;33m\u001b[0m\u001b[0m\n\u001b[0;32m     52\u001b[0m         \u001b[0mself\u001b[0m\u001b[1;33m.\u001b[0m\u001b[0mparams\u001b[0m \u001b[1;33m=\u001b[0m \u001b[1;33m{\u001b[0m\u001b[1;34m\"exif\"\u001b[0m\u001b[1;33m:\u001b[0m\u001b[0mself\u001b[0m\u001b[1;33m.\u001b[0m\u001b[0mexif\u001b[0m\u001b[1;33m,\u001b[0m\u001b[1;34m\"xmp\"\u001b[0m\u001b[1;33m:\u001b[0m\u001b[0mself\u001b[0m\u001b[1;33m.\u001b[0m\u001b[0mxmp\u001b[0m\u001b[1;33m}\u001b[0m\u001b[1;33m\u001b[0m\u001b[1;33m\u001b[0m\u001b[0m\n\u001b[1;32m---> 53\u001b[1;33m         \u001b[0mself\u001b[0m\u001b[1;33m.\u001b[0m\u001b[0mload_header\u001b[0m\u001b[1;33m(\u001b[0m\u001b[1;33m)\u001b[0m\u001b[1;33m\u001b[0m\u001b[1;33m\u001b[0m\u001b[0m\n\u001b[0m\u001b[0;32m     54\u001b[0m         \u001b[1;32mif\u001b[0m \u001b[1;32mnot\u001b[0m \u001b[0monlyheader\u001b[0m\u001b[1;33m:\u001b[0m\u001b[1;33m\u001b[0m\u001b[1;33m\u001b[0m\u001b[0m\n\u001b[0;32m     55\u001b[0m             \u001b[0mself\u001b[0m\u001b[1;33m.\u001b[0m\u001b[0mmainimage\u001b[0m \u001b[1;33m=\u001b[0m \u001b[0mnp\u001b[0m\u001b[1;33m.\u001b[0m\u001b[0marray\u001b[0m\u001b[1;33m(\u001b[0m\u001b[0mPILImage\u001b[0m\u001b[1;33m.\u001b[0m\u001b[0mopen\u001b[0m\u001b[1;33m(\u001b[0m\u001b[0mBytesIO\u001b[0m\u001b[1;33m(\u001b[0m\u001b[0mrawdata\u001b[0m\u001b[1;33m)\u001b[0m\u001b[1;33m)\u001b[0m\u001b[1;33m)\u001b[0m\u001b[1;33m\u001b[0m\u001b[1;33m\u001b[0m\u001b[0m\n",
      "\u001b[1;32m~\\OneDrive\\Dokumente\\GitHub\\poitagger2\\poitagger\\poitagger\\imagelib.py\u001b[0m in \u001b[0;36mload_header\u001b[1;34m(self)\u001b[0m\n\u001b[0;32m     70\u001b[0m         \u001b[0mself\u001b[0m\u001b[1;33m.\u001b[0m\u001b[0mheader\u001b[0m\u001b[1;33m[\u001b[0m\u001b[1;34m\"image\"\u001b[0m\u001b[1;33m]\u001b[0m\u001b[1;33m[\u001b[0m\u001b[1;34m\"main\"\u001b[0m\u001b[1;33m]\u001b[0m \u001b[1;33m=\u001b[0m \u001b[1;33m{\u001b[0m\u001b[1;33m}\u001b[0m\u001b[1;33m\u001b[0m\u001b[1;33m\u001b[0m\u001b[0m\n\u001b[0;32m     71\u001b[0m         \u001b[0mself\u001b[0m\u001b[1;33m.\u001b[0m\u001b[0mheader\u001b[0m\u001b[1;33m[\u001b[0m\u001b[1;34m\"image\"\u001b[0m\u001b[1;33m]\u001b[0m\u001b[1;33m[\u001b[0m\u001b[1;34m\"main\"\u001b[0m\u001b[1;33m]\u001b[0m\u001b[1;33m[\u001b[0m\u001b[1;34m\"Width\"\u001b[0m\u001b[1;33m]\u001b[0m \u001b[1;33m=\u001b[0m \u001b[0mself\u001b[0m\u001b[1;33m.\u001b[0m\u001b[0mifd\u001b[0m\u001b[1;33m[\u001b[0m\u001b[1;34m\"Exif\"\u001b[0m\u001b[1;33m]\u001b[0m\u001b[1;33m.\u001b[0m\u001b[0mget\u001b[0m\u001b[1;33m(\u001b[0m\u001b[0mpiexif\u001b[0m\u001b[1;33m.\u001b[0m\u001b[0mExifIFD\u001b[0m\u001b[1;33m.\u001b[0m\u001b[0mPixelXDimension\u001b[0m\u001b[1;33m,\u001b[0m\u001b[1;33m-\u001b[0m\u001b[1;36m1\u001b[0m\u001b[1;33m)\u001b[0m\u001b[1;33m\u001b[0m\u001b[1;33m\u001b[0m\u001b[0m\n\u001b[1;32m---> 72\u001b[1;33m         \u001b[0mself\u001b[0m\u001b[1;33m.\u001b[0m\u001b[0mheader\u001b[0m\u001b[1;33m[\u001b[0m\u001b[1;34m\"image\"\u001b[0m\u001b[1;33m]\u001b[0m\u001b[1;33m[\u001b[0m\u001b[1;34m\"main\"\u001b[0m\u001b[1;33m]\u001b[0m\u001b[1;33m[\u001b[0m\u001b[1;34m\"Height\"\u001b[0m\u001b[1;33m]\u001b[0m \u001b[1;33m=\u001b[0m \u001b[0mself\u001b[0m\u001b[1;33m.\u001b[0m\u001b[0mifd\u001b[0m\u001b[1;33m[\u001b[0m\u001b[1;34m\"Exif\"\u001b[0m\u001b[1;33m]\u001b[0m\u001b[1;33m.\u001b[0m\u001b[0mget\u001b[0m\u001b[1;33m(\u001b[0m\u001b[0mpiexif\u001b[0m\u001b[1;33m.\u001b[0m\u001b[0mExifIFD\u001b[0m\u001b[1;33m.\u001b[0m\u001b[0mPixelYDimension\u001b[0m\u001b[1;33m,\u001b[0m\u001b[1;33m-\u001b[0m\u001b[1;36m1\u001b[0m\u001b[1;33m)\u001b[0m\u001b[1;33m\u001b[0m\u001b[1;33m\u001b[0m\u001b[0m\n\u001b[0m\u001b[0;32m     73\u001b[0m \u001b[1;33m\u001b[0m\u001b[0m\n\u001b[0;32m     74\u001b[0m         \u001b[1;32mif\u001b[0m \u001b[1;34m\"0th\"\u001b[0m \u001b[1;32min\u001b[0m \u001b[0mself\u001b[0m\u001b[1;33m.\u001b[0m\u001b[0mexif\u001b[0m\u001b[1;33m:\u001b[0m\u001b[1;33m\u001b[0m\u001b[1;33m\u001b[0m\u001b[0m\n",
      "\u001b[1;31mKeyError\u001b[0m: 'Exif'"
     ]
    }
   ],
   "source": [
    "dji_matrice = Image(\"C:/WILDRETTER DATEN/2021_Mitterbacher/DJI_0389_R.jpg\")\n",
    "dji_matrice.header"
   ]
  },
  {
   "cell_type": "code",
   "execution_count": 1,
   "metadata": {},
   "outputs": [
    {
     "ename": "NameError",
     "evalue": "name 'Image' is not defined",
     "output_type": "error",
     "traceback": [
      "\u001b[1;31m---------------------------------------------------------------------------\u001b[0m",
      "\u001b[1;31mNameError\u001b[0m                                 Traceback (most recent call last)",
      "\u001b[1;32m<ipython-input-1-4c0e9c8bd493>\u001b[0m in \u001b[0;36m<module>\u001b[1;34m\u001b[0m\n\u001b[0;32m      1\u001b[0m \u001b[0mstartfilename\u001b[0m \u001b[1;33m=\u001b[0m \u001b[1;34m\"C:/Users/marti/OneDrive/Dokumente/GitHub/poitagger3/data/calib_flight/700101_000318_8.jpg\"\u001b[0m\u001b[1;33m\u001b[0m\u001b[1;33m\u001b[0m\u001b[0m\n\u001b[1;32m----> 2\u001b[1;33m \u001b[0mmyimg\u001b[0m \u001b[1;33m=\u001b[0m \u001b[0mImage\u001b[0m\u001b[1;33m(\u001b[0m\u001b[0mstartfilename\u001b[0m\u001b[1;33m)\u001b[0m\u001b[1;33m\u001b[0m\u001b[1;33m\u001b[0m\u001b[0m\n\u001b[0m\u001b[0;32m      3\u001b[0m \u001b[1;31m#print(asc12gerade.header)\u001b[0m\u001b[1;33m\u001b[0m\u001b[1;33m\u001b[0m\u001b[1;33m\u001b[0m\u001b[0m\n\u001b[0;32m      4\u001b[0m \u001b[0mtype\u001b[0m\u001b[1;33m(\u001b[0m\u001b[0mmyimg\u001b[0m\u001b[1;33m)\u001b[0m\u001b[1;33m\u001b[0m\u001b[1;33m\u001b[0m\u001b[0m\n\u001b[0;32m      5\u001b[0m \u001b[0mmyimg\u001b[0m\u001b[1;33m.\u001b[0m\u001b[0mheader\u001b[0m\u001b[1;33m\u001b[0m\u001b[1;33m\u001b[0m\u001b[0m\n",
      "\u001b[1;31mNameError\u001b[0m: name 'Image' is not defined"
     ]
    }
   ],
   "source": [
    "startfilename = \"C:/Users/marti/OneDrive/Dokumente/GitHub/poitagger3/data/calib_flight/700101_000318_8.jpg\"\n",
    "myimg = Image(startfilename)        \n",
    "#print(asc12gerade.header)\n",
    "type(myimg)\n",
    "myimg.header\n",
    "plt.imshow(myimg.image())"
   ]
  },
  {
   "cell_type": "code",
   "execution_count": null,
   "metadata": {},
   "outputs": [],
   "source": [
    "asc = Image(os.path.join(path,\"Intel/Asctec_FLIR_Tau640/06300657_0150.ARA\"))\n",
    "asc0 = Image(os.path.join(path,\"Intel/Asctec_FLIR_neueFirmware/BRHneueFirmware015.ARA\"))\n",
    "path2 = \"C:/WILDRETTER DATEN/Asctec_Daffner_kompass\"\n",
    "asc1 = Image(os.path.join(path2,\"00000001.ARA\"))\n",
    "asc2 = Image(os.path.join(path2,\"00000002.ARA\"))\n",
    "asc3 = Image(os.path.join(path2,\"00000003.ARA\"))\n",
    "asc4 = Image(os.path.join(path2,\"00000004.ARA\"))\n",
    "asc5 = Image(os.path.join(path2,\"00000005.ARA\"))\n",
    "asc6 = Image(os.path.join(path2,\"00000006.ARA\"))\n",
    "asc7 = Image(os.path.join(path2,\"00000007.ARA\"))\n",
    "asc8 = Image(os.path.join(path2,\"00000008.ARA\"))\n",
    "asc9 = Image(os.path.join(path2,\"00000009.ARA\"))\n",
    "asc10 = Image(os.path.join(path2,\"00000010.ARA\"))\n",
    "asc11 = Image(os.path.join(path,\"Intel/DLR2015/4D0880775T.ARA\"))\n",
    "asc11gerade = Image(os.path.join(path,\"Intel/DLR2015/4D0880515T.ARA\"))\n",
    "asc12 = Image(os.path.join(path,\"Intel/NAN2017/05160443_0518.ARA\"))\n",
    "asc12gerade = Image(os.path.join(path,\"Intel/NAN2017/05160443_0268.ARA\"))\n",
    "asc13 = Image(os.path.join(path,\"Intel/Pelz2017/05170339_0227.ARA\"))\n",
    "asc13gerade = Image(os.path.join(path,\"Intel/Pelz2017/05170541_0082.ARA\"))\n",
    "#plt.imshow(td.images[1])\n",
    "print (asc.maker, type(asc).__name__)\n",
    "plt.imshow(asc9.rawimage)"
   ]
  },
  {
   "cell_type": "code",
   "execution_count": null,
   "metadata": {},
   "outputs": [],
   "source": [
    "print(asc.image())"
   ]
  },
  {
   "cell_type": "code",
   "execution_count": null,
   "metadata": {},
   "outputs": [],
   "source": [
    "datetime.fromtimestamp(1465291372).isoformat(\" \")"
   ]
  },
  {
   "cell_type": "code",
   "execution_count": null,
   "metadata": {},
   "outputs": [],
   "source": [
    "asc0.header"
   ]
  },
  {
   "cell_type": "code",
   "execution_count": null,
   "metadata": {},
   "outputs": [],
   "source": [
    "def UTCFromGps(gpsWeek, mSOW, leapSecs=16,gpxstyle=False): \n",
    "    \"\"\"\n",
    "    mSOW = milliseconds of week \n",
    "    gpsWeek is the full number (not modulo 1024) \n",
    "    \"\"\" \n",
    "    secFract = mSOW % 1000 \n",
    "    epochTuple = (1980, 1, 6, 0, 0, 0) + (-1, -1, 0)  \n",
    "    t0 = time.mktime(epochTuple) - time.timezone  #mktime is localtime, correct for UTC \n",
    "    tdiff = (gpsWeek * 604800) + mSOW/1000.0 - leapSecs \n",
    "    t = t0 + tdiff \n",
    "    (year, month, day, hh, mm, ss, dayOfWeek, julianDay, daylightsaving) = time.gmtime(t) \n",
    "    if gpxstyle==True:\n",
    "        return \"%04d-%02d-%02dT%02d:%02d:%02d\"%(year,month,day,hh,mm,ss)\n",
    "    else:\n",
    "        return \"%04d-%02d-%02d %02d:%02d:%02d\"%(year,month,day,hh,mm,ss)\n"
   ]
  },
  {
   "cell_type": "code",
   "execution_count": null,
   "metadata": {},
   "outputs": [],
   "source": [
    "print(UTCFromGps(asc11.params[\"falcon\"][\"gps_week\"],asc11.params[\"falcon\"][\"gps_time_ms\"]))\n",
    "#print(UTCFromGps(asc4.rawheader[\"falcon\"][\"gps_week\"],asc4.rawheader[\"falcon\"][\"gps_time_ms\"]))\n",
    "#print(UTCFromGps(asc5.rawheader[\"falcon\"][\"gps_week\"],asc5.rawheader[\"falcon\"][\"gps_time_ms\"]))\n",
    "#print(UTCFromGps(asc6.rawheader[\"falcon\"][\"gps_week\"],asc6.rawheader[\"falcon\"][\"gps_time_ms\"]))\n",
    "#print(UTCFromGps(asc7.rawheader[\"falcon\"][\"gps_week\"],asc7.rawheader[\"falcon\"][\"gps_time_ms\"]))\n",
    "#print(UTCFromGps(asc8.rawheader[\"falcon\"][\"gps_week\"],asc8.rawheader[\"falcon\"][\"gps_time_ms\"]))\n"
   ]
  },
  {
   "cell_type": "code",
   "execution_count": null,
   "metadata": {},
   "outputs": [],
   "source": []
  },
  {
   "cell_type": "code",
   "execution_count": 5,
   "metadata": {},
   "outputs": [
    {
     "name": "stderr",
     "output_type": "stream",
     "text": [
      "reading thumbnail failed\n"
     ]
    },
    {
     "data": {
      "text/plain": [
       "{'exif': {'0th': {'BitsPerSample': 8,\n",
       "   'Make': 'thermalDRONES',\n",
       "   'Model': 'FWR',\n",
       "   'XResolution': 72.0,\n",
       "   'YResolution': 72.0,\n",
       "   'ResolutionUnit': 2,\n",
       "   'YCbCrPositioning': 1,\n",
       "   'ExifTag': 218,\n",
       "   'GPSTag': 2930,\n",
       "   'CameraSerialNumber': '63472',\n",
       "   'ImageNumber': 19,\n",
       "   'Software': '2.0'},\n",
       "  'Exif': {'ExifVersion': b'0210',\n",
       "   'ComponentsConfiguration': b'\\x01\\x02\\x03',\n",
       "   'FlashpixVersion': b'0100',\n",
       "   'ColorSpace': 1,\n",
       "   'DateTimeOriginal': '2021:05:25 11:23:56',\n",
       "   'SubSecTimeOriginal': '835292',\n",
       "   'PixelXDimension': 640,\n",
       "   'PixelYDimension': 512},\n",
       "  'GPS': {'GPSVersionID': (3, 2),\n",
       "   'GPSLatitudeRef': '',\n",
       "   'GPSLatitude': (47.0, 44.0, 53.67012),\n",
       "   'GPSLongitudeRef': '',\n",
       "   'GPSLongitude': (11.0, 13.0, 49.29384),\n",
       "   'GPSAltitudeRef': 0,\n",
       "   'GPSAltitude': 719.04,\n",
       "   'GPSTimeStamp': (11.0, 23.0, 56.835),\n",
       "   'GPSDateStamp': '2021:05:25',\n",
       "   'GPSSpeedRef': '',\n",
       "   'GPSSpeed': 0.0,\n",
       "   'GPSTrackRef': '',\n",
       "   'GPSTrack': 0.0},\n",
       "  'Interop': {},\n",
       "  '1st': {}},\n",
       " 'xmp': {'@rdf:about': '',\n",
       "  'camera:bandname': 'LWIR',\n",
       "  'camera:centralwavelength': '10000',\n",
       "  'camera:wavelengthfwhm': '4500',\n",
       "  'camera:tlineargain': '0.00',\n",
       "  'camera:yaw': '-129.9361663928669',\n",
       "  'camera:pitch': '-90.0',\n",
       "  'camera:roll': '0/100',\n",
       "  'camera:gpsxyaccuracy': '0',\n",
       "  'camera:gpszaccuracy': '0',\n",
       "  'camera:gyrorate': '0.00',\n",
       "  'camera:detectorbitdepth': '16',\n",
       "  'camera:isnormalized': '1',\n",
       "  'camera:serialnumber': '63472',\n",
       "  'camera:partnumber': '20640A032-6CAAX',\n",
       "  'camera:firmware': '(2, 0, 15223)',\n",
       "  'camera:coretemp': '27.4',\n",
       "  'camera:ffcstate': '0',\n",
       "  'camera:ffcdesired': '0',\n",
       "  'camera:framecount': '8854',\n",
       "  'camera:focallengthpixel': '1167',\n",
       "  'camera:fov': '42.0',\n",
       "  'camera:distortion': '3',\n",
       "  'camera:lastffcframecount': '8593',\n",
       "  'flir:mavversionid': '0.3.0.0',\n",
       "  'flir:mavcomponentid': '100',\n",
       "  'flir:mavrelativealtitude': '42.732',\n",
       "  'flir:mavrateofclimbref': 'M',\n",
       "  'flir:mavrateofclimb': '0/1000',\n",
       "  'flir:mavyaw': '229.98000000000002',\n",
       "  'flir:mavpitch': '-7.4366775249113255',\n",
       "  'flir:mavroll': '-0.2889434688745732',\n",
       "  'flir:mavyawrate': '2.249653003624753',\n",
       "  'flir:mavpitchrate': '-0.9225407378672227',\n",
       "  'flir:mavrollrate': '-8.772441399191441',\n",
       "  'td:uavaccx': '-0.31',\n",
       "  'td:uavaccy': '-0.37',\n",
       "  'td:uavaccz': '-10.38'}}"
      ]
     },
     "execution_count": 5,
     "metadata": {},
     "output_type": "execute_result"
    }
   ],
   "source": [
    "td = Image(\"C:/WILDRETTER DATEN/210525_1130_obersöchering_dreieck_kühe/210525_112356_8.jpg\")\n",
    "#plt.imshow(td.images[1])\n",
    "td.params"
   ]
  },
  {
   "cell_type": "code",
   "execution_count": null,
   "metadata": {},
   "outputs": [],
   "source": [
    "datetime.now().timestamp()"
   ]
  },
  {
   "cell_type": "code",
   "execution_count": null,
   "metadata": {},
   "outputs": [],
   "source": [
    "import pytz\n",
    "from datetime import datetime \n",
    "\n",
    "tf = TimezoneFinder()\n",
    "lat = td.header[\"position\"][\"Latitude\"]\n",
    "lon = td.header[\"position\"][\"Longitude\"]\n",
    "local_tz = pytz.timezone(tf.timezone_at(lng=lon,lat=lat))\n",
    "gpstime = \"2021-05-25 09:23:56\"\n",
    "#print(gpstime)\n",
    "localtime= td.header[\"time\"][\"DateTimeOriginal\"]\n",
    "#print(localtime)\n",
    "\n",
    "dtll = local_tz.localize(datetime.fromisoformat(localtime))\n",
    "dtgg = pytz.UTC.localize(datetime.fromisoformat(gpstime))\n",
    "\n",
    "\n",
    "print(\"local:\", dtll)\n",
    "print(\"global:\", dtgg)\n",
    "\n",
    "print(\"alles in UTC\")\n",
    "print(dtll.astimezone(pytz.UTC))\n",
    "print(dtgg.astimezone(pytz.UTC))\n",
    "\n",
    "print(\"alles in localtime\")\n",
    "print(dtll.astimezone(local_tz))\n",
    "print(dtgg.astimezone(local_tz))\n",
    "\n"
   ]
  },
  {
   "cell_type": "code",
   "execution_count": null,
   "metadata": {},
   "outputs": [],
   "source": [
    "filepath = \"G:/Geteilte Ablagen/thermal DRONES GmbH/Wildretter-Daten/verschiedene Kameras/FLIR/FLIR_Vue_640_20200517_110530/20200517_110530_R.jpg\"\n",
    "filedt = datetime.fromtimestamp(os.path.getmtime(filepath))\n",
    "filets = filedt.timestamp()#.strftime(\"%Y-%m-%d %H:%M:%S\")\n",
    "def local_time_offset(t=None):\n",
    "    \"\"\"Return offset of local zone from GMT, either at present or at time t.\"\"\"\n",
    "    # python2.3 localtime() can't take None\n",
    "    if t is None:\n",
    "        t = time.time()\n",
    "\n",
    "    if time.localtime(t).tm_isdst and time.daylight:\n",
    "        return -time.altzone\n",
    "    else:\n",
    "        return -time.timezone\n",
    "#local_time_offset(t)/60/60\n",
    "filedt.astimezone().tzinfo\n",
    "filedt.astimezone().isoformat(\" \")#.strftime(\"%Y-%m-%d %H:%M:%S\")\n"
   ]
  },
  {
   "cell_type": "code",
   "execution_count": null,
   "metadata": {},
   "outputs": [],
   "source": [
    "datetime.now().astimezone().isoformat(\" \")#, '%y%m%d_%H%M%S')"
   ]
  },
  {
   "cell_type": "code",
   "execution_count": null,
   "metadata": {},
   "outputs": [],
   "source": [
    "anafi = Image(\"G:/Geteilte Ablagen/thermal DRONES GmbH/Wildretter-Daten/verschiedene Kameras/Parrot/AnafiUSA_320pix_50deg/P0180018.JPG\")\n",
    "print (anafi.maker, type(anafi).__name__)\n",
    "flir = Image(\"G:/Geteilte Ablagen/thermal DRONES GmbH/Wildretter-Daten/verschiedene Kameras/FLIR/FLIR_Vue_640_20200517_110530/20200517_110530_R.jpg\")\n",
    "print (flir.maker, type(flir).__name__)\n",
    "dji = Image(os.path.join(path,\"DJI/Testmaterial Mavic 2 Enterprise Advanced/Hausen_2021-08/DJI_0008.JPG\"))\n",
    "dji0 = Image(os.path.join(path,\"DJI/Testmaterial Mavic 2 Enterprise Advanced/Hausen_2021-08/DJI_0009.JPG\"))\n",
    "dji1 = Image(os.path.join(path,\"DJI/Testmaterial Mavic 2 Enterprise Advanced/Hausen_2021-08/DJI_0010.JPG\"))\n",
    "dji2 = Image(os.path.join(path,\"DJI/Testmaterial Mavic 2 Enterprise Advanced/Hausen_2021-08/DJI_0011.JPG\"))\n",
    "dji3 = Image(os.path.join(path,\"DJI/Testmaterial Mavic 2 Enterprise Advanced/100MEDIA_210820_1613/DJI_0074.JPG\"))\n",
    "print (dji.maker, type(dji).__name__)\n",
    "dji4 = Image(\"G:/Geteilte Ablagen/thermal DRONES GmbH/Wildretter-Daten/verschiedene Kameras/DJI/XTS/DJI_0001_R.jpg\")\n",
    "print (dji4.maker, type(dji4).__name__)\n",
    "dji5 = Image(\"G:/Geteilte Ablagen/thermal DRONES GmbH/Wildretter-Daten/verschiedene Kameras/DJI/H20T/DJI_0001_R.jpg\")\n",
    "print (dji5.maker, type(dji5).__name__)\n",
    "td = Image(\"C:/WILDRETTER DATEN/210525_1130_obersöchering_dreieck_kühe/210525_112356_8.jpg\")\n",
    "print (td.maker, type(td).__name__)\n",
    "djidual = Image(\"G:/Geteilte Ablagen/thermal DRONES GmbH/Wildretter-Daten/verschiedene Kameras/DJI/Testmaterial Mavic 2 Enterprise Advanced/100MEDIA_210820_1613/DJI_0069.jpg\")\n",
    "print (djidual.maker, type(djidual).__name__)\n",
    "yun = Image(os.path.join(path,\"yuneec/200123_1448_Yuneec_H520_E90_Flug_Feuerhaus/YUN_0002.JPG\"))\n",
    "print (yun.maker, type(yun).__name__)\n",
    "#td2_alt = Image(\"G:/Geteilte Ablagen/thermal DRONES GmbH/Wildretter-Daten/verschiedene Kameras/thermalDRONES/FWR2020_Boson320/200509_140849_7.jpg\")\n",
    "#td3_alt = Image(\"G:/Geteilte Ablagen/thermal DRONES GmbH/Wildretter-Daten/verschiedene Kameras/thermalDRONES/Neuer Ordner/200622_114848_8.jpg\")\n",
    "#td3_alt = Image(\"G:/Geteilte Ablagen/thermal DRONES GmbH/Wildretter-Daten/verschiedene Kameras/thermalDRONES/Neuer Ordner/200516_070006_8.jpg\")\n",
    "\n",
    "td0 = Image(\"C:/Users/marti/OneDrive/Dokumente/GitHub/poitagger2/poitagger/data/calib_flight/700101_000318_8.jpg\")\n",
    "flir1 = Image(\"G:/Geteilte Ablagen/thermal DRONES GmbH/Wildretter-Daten/verschiedene Kameras/FLIR/Flir_VuePro/vuepro_example.jpg\") \n",
    "flir2 = Image(\"G:/Geteilte Ablagen/thermal DRONES GmbH/Wildretter-Daten/verschiedene Kameras/FLIR/FLIR_Vue_640_20200517_110530/20200517_110655_R.jpg\")\n",
    "#dji = Image(os.path.join(path,\"DJI/DJI-Farbkamera_neu/DJI_0001.JPG\"))\n",
    "#dji = Image(\"C:/Users/marti/Downloads/dji_thermal_sdk_v1.2_20211209/dataset/M2EA/DJI_0005_R.JPG\")\n",
    "#dji = Image(\"C:/Users/marti/Downloads/dji_thermal_sdk_v1.2_20211209/dataset/XTS/DJI_0001_R.jpg\")"
   ]
  },
  {
   "cell_type": "code",
   "execution_count": null,
   "metadata": {},
   "outputs": [],
   "source": [
    "flir.header"
   ]
  },
  {
   "cell_type": "code",
   "execution_count": null,
   "metadata": {},
   "outputs": [],
   "source": [
    "bool(1312)"
   ]
  },
  {
   "cell_type": "code",
   "execution_count": null,
   "metadata": {},
   "outputs": [],
   "source": [
    "flir = Image(\"G:/Geteilte Ablagen/thermal DRONES GmbH/Wildretter-Daten/verschiedene Kameras/FLIR/FLIR_Vue_640_20200517_110530/20200517_110530_R.jpg\")\n",
    "flir.exif"
   ]
  },
  {
   "cell_type": "code",
   "execution_count": null,
   "metadata": {},
   "outputs": [],
   "source": [
    "gts = td.exif[\"GPS\"].get(\"GPSTimeStamp\")\n",
    "gds = td.exif[\"GPS\"].get(\"GPSDateStamp\")\n",
    "\"{:2.0f}:{:2.0f}:{:2.4f}\".format(*gts)\n",
    "#dt = datetime.strptime('2020:05:09',\"%Y:%m:%d\")\n",
    "datetime.strptime(gds,\"%Y:%m:%d\").strftime(\"%Y-%m-%d\")"
   ]
  },
  {
   "cell_type": "code",
   "execution_count": null,
   "metadata": {},
   "outputs": [],
   "source": [
    "dto = datetime.strptime('2020:05:09 14:08:49',\"%Y:%m:%d %H:%M:%S\")\n",
    "dto\n",
    "dto.replace(tzinfo=timezone.utc)"
   ]
  },
  {
   "cell_type": "code",
   "execution_count": null,
   "metadata": {},
   "outputs": [],
   "source": [
    "td2_alt = Image(\"G:/Geteilte Ablagen/thermal DRONES GmbH/Wildretter-Daten/verschiedene Kameras/thermalDRONES/FWR2020_Boson320/200509_140849_7.jpg\")\n",
    "td2_alt.header"
   ]
  },
  {
   "cell_type": "code",
   "execution_count": null,
   "metadata": {},
   "outputs": [],
   "source": [
    "#datetime.fromtimestamp(td2_alt.fff.get('DateTimeOriginal')).isoformat(\" \")\n",
    "dtoss =  timedelta(microseconds=int(td2_alt.exif[\"Exif\"].get(\"SubSecTimeOriginal\")))\n",
    "dto = datetime.strptime(td2_alt.exif[\"Exif\"].get(\"DateTimeOriginal\"),\"%Y:%m:%d %H:%M:%S\")+dtoss\n",
    "(dto.second*1000000+dto.microsecond)/1000000\n",
    "#dto.microsecond"
   ]
  },
  {
   "cell_type": "code",
   "execution_count": null,
   "metadata": {},
   "outputs": [],
   "source": [
    "type(td2_alt.exif[\"GPS\"].get(\"GPSTimeStamp\"))"
   ]
  },
  {
   "cell_type": "code",
   "execution_count": null,
   "metadata": {},
   "outputs": [],
   "source": [
    "a = b'GimbalDegree(Y,P,R):1509,-899,0\\x00\\x00\\x00\\x00\\x00\\x00\\x00\\x00\\x00'\n",
    "b= b'FlightDegree(Y,P,R):1785,20,-6\\x00\\x00\\x00\\x00\\x00\\x00\\x00\\x00\\x00\\x00'\n",
    "c = b'adj_dbg_info:\\x00\\x00\\x00\\x00\\x00\\x00\\x00\\x00\\x00\\x00\\x00\\x00\\x00\\x00\\x00\\x00\\x00\\x00\\x00\\x00\\x00\\x00\\x00\\x00\\x00\\x00\\x00\\x00\\x00\\x00\\x00\\x00\\x00\\x00\\x00\\x00\\x00\\x00\\x00\\x00\\x00\\x00\\x00\\x00\\x00\\x00\\x00\\x00\\x00\\x00\\x00\\x00\\x00\\x00\\x00\\x00\\x00\\x00\\x00\\x00\\x00\\x00\\x00\\x00\\x00\\x00\\x00\\x00\\x00\\x00\\x00\\x00\\x00\\x00\\x00\\x00\\x00\\x00\\x00\\x00\\x00\\x00\\x00\\x00\\x00\\x00\\x00\\x00\\x00\\x00\\x00\\x00\\x00\\x00\\x00\\x00\\x00\\x00\\x00\\x00\\x00\\x00\\x00\\x00\\x00\\x00\\x00\\x00\\x00\\x00\\x00\\x00\\x00\\x00\\x00\\x00\\x00\\x00\\x00\\x00\\x00\\x00\\x00\\x00\\x00\\x00\\x00\\x00\\x00\\x00\\x00\\x00\\x00\\x00\\x00\\x00\\x00\\x00\\x00\\x00\\x00\\x00\\x00\\x00\\x00\\x00\\x00\\x00\\x00\\x00\\x00\\x00\\x00\\x00\\x00\\x00\\x00\\x00\\x00\\x00\\x00\\x00\\x00\\x00\\x00\\x00\\x00\\x00\\x00\\x00\\x00\\x00\\x00\\x00\\x00\\x00\\x00\\x00\\x00\\x00\\x00\\x00\\x00\\x00\\x00\\x00\\x00\\x00\\x00\\x00\\x00\\x00\\x00\\x00\\x00\\x00\\x00\\x00\\x00\\x00\\x00\\x00\\x00\\x00\\x00\\x00\\x00\\x00\\x00\\x00\\x00\\x00\\x00\\x00\\x00\\x00\\x00\\x00\\x00\\x00\\x00\\x00\\x00\\x00\\x00\\x00\\x00\\x00\\x00\\x00\\x00\\x00\\x00\\x00\\x00\\x00\\x00\\x00\\x00\\x00\\x00\\x00\\x00\\x00\\x00\\x00\\x00\\x00\\x00\\x00\\x00\\x00\\x00\\x00\\x00\\x00\\x00\\x00\\x00\\x00\\x00\\x00\\x00\\x00\\x00\\x00\\x00\\x00\\x00\\x00\\x00\\x00\\x00\\x00\\x00\\x00\\x00\\x00\\x00\\x00\\x00\\x00\\x00\\x00\\x00\\x00\\x00\\x00\\x00\\x00\\x00\\x00\\x00\\x00\\x00\\x00\\x00\\x00\\x00\\x00\\x00\\x00\\x00\\x00\\x00\\x00\\x00\\x00\\x00\\x00\\x00\\x00\\x00\\x00\\x00\\x00\\x00\\x00\\x00\\x00\\x00\\x00\\x00\\x00\\x00\\x00\\x00\\x00\\x00\\x00\\x00\\x00\\x00\\x00\\x00\\x00\\x00\\x00\\x00\\x00\\x00\\x00\\x00\\x00\\x00\\x00\\x00\\x00\\x00\\x00\\x00\\x00\\x00\\x00\\x00\\x00\\x00\\x00\\x00\\x00\\x00\\x00\\x00\\x00\\x00\\x00\\x00\\x00\\x00\\x00\\x00\\x00\\x00\\x00\\x00\\x00\\x00\\x00\\x00\\x00\\x00\\x00\\x00\\x00\\x00\\x00\\x00\\x00\\x00\\x00\\x00\\x00\\x00\\x00\\x00\\x00\\x00\\x00\\x00\\x00\\x00\\x00\\x00\\x00\\x00\\x00\\x00\\x00\\x00\\x00\\x00\\x00\\x00\\x00\\x00\\x00\\x00\\x00\\x00\\x00\\x00\\x00\\x00\\x00\\x00\\x00\\x00\\x00\\x00\\x00\\x00\\x00\\x00\\x00\\x00\\x00\\x00\\x00\\x00\\x00\\x00\\x00\\x00\\x00\\x00\\x00\\x00\\x00\\x00\\x00\\x00\\x00\\x00\\x00\\x00\\x00\\x00\\x00\\x00\\x00\\x00\\x00\\x00\\x00\\x00\\x00\\x00\\x00\\x00\\x00\\x00\\x00\\x00\\x00\\x00\\x00\\x00\\x00\\x00\\x00\\x00\\x00\\x00\\x00\\x00\\x00\\x00\\x00\\x00\\x00\\x00\\x00\\x00\\x00\\x00\\x00\\x00\\x00\\x00\\x00\\x00\\x00\\x00\\x00\\x00\\x00\\x00\\x00\\x00\\x00\\x00\\x00\\x00\\x00\\x00\\x00\\x00\\x00\\x00\\x00\\x00\\x00\\x00\\x00\\x00\\x00\\x00\\x00\\x00\\x00\\x00\\x00\\x00\\x00\\x00\\x00\\x00\\x00\\x00\\x00\\x00\\x00\\x00\\x00\\x00\\x00\\x00\\x00\\x00\\x00\\x00\\x00\\x00\\x00\\x00\\x00\\x00\\x00\\x00\\x00\\x00\\x00\\x00\\x00\\x00\\x00\\x00\\x00\\x00\\x00\\x00\\x00\\x00\\x00\\x00\\x00\\x00\\x00\\x00\\x00\\x00\\x00\\x00\\x00\\x00\\x00\\x00\\x00\\x00\\x00\\x00\\x00\\x00\\x00\\x00\\x00\\x00\\x00\\x00\\x00\\x00\\x00\\x00\\x00\\x00\\x00\\x00\\x00\\x00\\x00\\x00\\x00\\x00\\x00\\x00\\x00\\x00\\x00\\x00\\x00\\x00\\x00\\x00\\x00\\x00\\x00\\x00\\x00\\x00\\x00\\x00\\x00\\x00\\x00\\x00\\x00\\x00\\x00\\x00\\x00\\x00\\x00\\x00\\x00\\x00\\x00\\x00\\x00\\x00\\x00\\x00\\x00\\x00\\x00\\x00\\x00\\x00\\x00\\x00\\x00\\x00\\x00\\x00\\x00\\x00\\x00\\x00\\x00\\x00\\x00\\x00\\x00\\x00\\x00\\x00\\x00\\x00\\x00\\x00\\x00\\x00\\x00\\x00\\x00\\x00\\x00\\x00\\x00\\x00\\x00\\x00\\x00\\x00\\x00\\x00\\x00\\x00\\x00\\x00\\x00\\x00\\x00\\x00\\x00\\x00\\x00\\x00\\x00\\x00\\x00\\x00\\x00\\x00\\x00\\x00\\x00\\x00\\x00\\x00\\x00\\x00\\x00\\x00\\x00\\x00\\x00\\x00\\x00\\x00\\x00\\x00\\x00\\x00\\x00\\x00\\x00\\x00\\x00\\x00\\x00\\x00\\x00\\x00\\x00\\x00\\x00\\x00\\x00\\x00\\x00\\x00\\x00\\x00\\x00\\x00\\x00\\x00\\x00\\x00\\x00\\x00\\x00\\x00\\x00\\x00\\x00\\x00\\x00\\x00\\x00\\x00\\x00\\x00\\x00\\x00\\x00\\x00\\x00\\x00\\x00\\x00\\x00\\x00\\x00\\x00\\x00\\x00\\x00\\x00\\x00\\x00\\x00\\x00\\x00\\x00\\x00\\x00\\x00\\x00\\x00\\x00\\x00\\x00\\x00\\x00\\x00\\x00\\x00\\x00\\x00\\x00\\x00\\x00\\x00\\x00\\x00\\x00\\x00\\x00\\x00\\x00\\x00\\x00\\x00\\x00\\x00\\x00\\x00\\x00\\x00\\x00\\x00\\x00\\x00\\x00\\x00\\x00\\x00\\x00\\x00\\x00\\x00\\x00\\x00\\x00\\x00\\x00\\x00\\x00\\x00\\x00\\x00\\x00\\x00\\x00\\x00\\x00\\x00\\x00\\x00\\x00\\x00\\x00\\x00\\x00\\x00\\x00\\x00\\x00\\x00\\x00\\x00\\x00\\x00\\x00\\x00\\x00\\x00\\x00\\x00\\x00\\x00\\x00\\x00\\x00\\x00\\x00\\x00\\x00\\x00\\x00\\x00\\x00\\x00\\x00\\x00\\x00\\x00\\x00\\x00\\x00\\x00\\x00\\x00\\x00\\x00\\x00\\x00\\x00\\x00\\x00\\x00\\x00\\x00\\x00\\x00\\x00\\x00\\x00\\x00\\x00\\x00\\x00\\x00\\x00\\x00\\x00\\x00\\x00\\x00\\x00\\x00\\x00\\x00\\x00\\x00\\x00\\x00\\x00\\x00\\x00\\x00\\x00\\x00\\x00\\x00\\x00\\x00\\x00\\x00\\x00\\x00\\x00\\x00\\x00\\x00\\x00\\x00\\x00\\x00\\x00\\x00\\x00\\x00\\x00\\x00\\x00\\x00\\x00\\x00\\x00\\x00\\x00\\x00\\x00\\x00\\x00\\x00\\x00\\x00\\x00\\x00\\x00\\x00\\x00\\x00\\x00\\x00\\x00\\x00\\x00\\x00\\x00\\x00\\x00\\x00\\x00\\x00\\x00\\x00\\x00\\x00\\x00\\x00\\x00\\x00\\x00\\x00\\x00\\x00\\x00\\x00\\x00\\x00\\x00\\x00\\x00\\x00\\x00\\x00\\x00\\x00\\x00\\x00'\n",
    "d= b'asddagsgsags:'\n",
    "e=b':'\n",
    "k,v = e.split(b\":\")\n"
   ]
  },
  {
   "cell_type": "code",
   "execution_count": null,
   "metadata": {},
   "outputs": [],
   "source": [
    "dji1.exif"
   ]
  },
  {
   "cell_type": "code",
   "execution_count": null,
   "metadata": {},
   "outputs": [],
   "source": [
    "yun.exif"
   ]
  },
  {
   "cell_type": "code",
   "execution_count": null,
   "metadata": {},
   "outputs": [],
   "source": [
    "len(anafi.images)"
   ]
  },
  {
   "cell_type": "code",
   "execution_count": null,
   "metadata": {},
   "outputs": [],
   "source": [
    "#flir.xmp\n",
    "#flir.exif\n",
    "#flir.fff\n",
    "#flir.header\n",
    "#plt.imshow(flir.rawimage)\n",
    "#flir.segments\n",
    "#data = flir.combine_flir_segments()\n",
    "#data[0:20]\n",
    "#plt.imshow(flir.rawimage)\n",
    "#flir.exif\n",
    "#flir.header\n",
    "#flir.xmp\n",
    "#flir.params = {}\n",
    "#flir.params[\"exif\"] = flir.exif\n",
    "#flir.params[\"xmp\"] = dict(flir.xmp)\n",
    "#flir.params[\"fff\"] = flir.fff\n",
    "#flir.params\n",
    "flir.ifd"
   ]
  },
  {
   "cell_type": "code",
   "execution_count": null,
   "metadata": {},
   "outputs": [],
   "source": []
  },
  {
   "cell_type": "code",
   "execution_count": null,
   "metadata": {},
   "outputs": [],
   "source": [
    "from bs4 import BeautifulSoup\n",
    "import xmltodict\n",
    "\n",
    "testrdf1 = b'<?xml version=\"1.0\"?>\\\n",
    "<rdf:RDF xmlns:rdf=\"http://www.w3.org/1999/02/22-rdf-syntax-ns#\">\\\n",
    "  <rdf:Seq rdf:about=\"http://example.org/favourite-fruit\">\\\n",
    "    <rdf:li rdf:resource=\"http://example.org/banana\"/>\\\n",
    "    <rdf:li rdf:resource=\"http://example.org/apple\"/>\\\n",
    "    <rdf:li rdf:resource=\"http://example.org/pear\"/>\\\n",
    "  </rdf:Seq>\\\n",
    "</rdf:RDF>blaSDSDFkasd'\n",
    "\n",
    "testrdf2 = b'<?xml version=\"1.0\"?>\\\n",
    "<rdf:RDF xmlns:rdf=\"http://www.w3.org/1999/02/22-rdf-syntax-ns#\">\\\n",
    "  <rdf:Seq>\\\n",
    "    <rdf:li rdf:resource=\"http://example.org/banana\"/>\\\n",
    "    <rdf:li rdf:resource=\"http://example.org/apple\"/>\\\n",
    "    <rdf:li rdf:resource=\"http://example.org/pear\"/>\\\n",
    "  </rdf:Seq>\\\n",
    "</rdf:RDF>blaSDSDFkasd'\n",
    "\n",
    "testrdf3 = b'<?xml version=\"1.0\"?>\\\n",
    "<rdf:RDF xmlns:rdf=\"http://www.w3.org/1999/02/22-rdf-syntax-ns#\">\\\n",
    "  <rdf:Seq>\\\n",
    "    <rdf:li rdf:resource=\"http://example.org/pear\"/>\\\n",
    "  </rdf:Seq>\\\n",
    "</rdf:RDF>blaSDSDFkasd'\n",
    "\n",
    "rdf1 = xmltodict.parse(bytes(str(BeautifulSoup(testrdf1,\"lxml\").find(\"rdf:rdf\")),\"utf-8\"))\n",
    "rdf2 = xmltodict.parse(bytes(str(BeautifulSoup(testrdf2,\"lxml\").find(\"rdf:rdf\")),\"utf-8\"))\n",
    "rdf3 = xmltodict.parse(bytes(str(BeautifulSoup(testrdf3,\"lxml\").find(\"rdf:rdf\")),\"utf-8\"))\n",
    "rdf3"
   ]
  },
  {
   "cell_type": "code",
   "execution_count": null,
   "metadata": {},
   "outputs": [],
   "source": [
    "A = OrderedDict([('general', (None, OrderedDict([('bounding', (None, OrderedDict([ ('0', (None, OrderedDict([ ('0', (100, OrderedDict())), \n",
    "    ('1', (200, OrderedDict()))]))),]))), ('path',  ('blablabla', OrderedDict()))]))),])\n",
    "nested.Nested(A,nested.paramtodict,nested.pre_paramtodict).data\n",
    "\n",
    "firstkey = next(iter(A))\n",
    "print (type(A[firstkey]))\n",
    "\n",
    "nested.Nested(A).data"
   ]
  },
  {
   "cell_type": "code",
   "execution_count": null,
   "metadata": {},
   "outputs": [],
   "source": [
    "from collections.abc import MutableMapping, MutableSequence \n",
    "from collections import OrderedDict\n",
    "from itertools import groupby\n",
    "\n",
    "def all_equal(iterable):\n",
    "    g = groupby(iterable)\n",
    "    return next(g, True) and not next(g, False)\n",
    "\n",
    "import nested\n",
    "\n",
    "rdfdict = {'@rdf:about': '', 'camera:bandname': OrderedDict([('rdf:seq',OrderedDict([('rdf:li', 'LWIR')]))]),\n",
    " 'camera:centralwavelength': OrderedDict([('rdf:seq', OrderedDict([('rdf:li', '10000')]))]),\n",
    "           'camera:wavelengthfwhm': OrderedDict([('rdf:seq',OrderedDict([('rdf:li', '4500')]))]),\n",
    " 'camera:tlineargain': '0.00',}\n",
    "\n",
    "def pre_reduce_rdf(k,v,**kwargs):\n",
    "    #print(\"\\x1b[32m\\\"PRE k:\",k,\", v:\",v,\"type(v):\",type(v),\"len(v)\",len(v),\", kwargs:\",kwargs,\"\\\"\\x1b[32m\")\n",
    "    return v\n",
    "\n",
    "def reduce_rdf2(k,v,**kwargs): \n",
    "    '''\n",
    "    this is a callback function for nested. \n",
    "    >>>rdfdict = {'@rdf:about': '', 'camera:bandname': OrderedDict([('rdf:seq',OrderedDict([('rdf:li', 'LWIR')]))]),\n",
    " 'camera:centralwavelength': OrderedDict([('rdf:seq', OrderedDict([('rdf:li', '10000')]))]),\n",
    "           'camera:wavelengthfwhm': OrderedDict([('rdf:seq',OrderedDict([('rdf:li', '4500')]))]),\n",
    " 'camera:tlineargain': '0.00',}\n",
    "    \n",
    "    calling nested with this callbackfunction leads tO a reduced dictionary:\n",
    "    >>>nested(A,callback_paramtodict)  \n",
    "    {'general': [{'bounding': [[100, 200]], 'path': 'blablabla'}]}\n",
    "    '''\n",
    "    if type(v) == dict and k == \"rdf:seq\":\n",
    "        #print(\"\\x1b[31m\\\"POST k:\",k,\", v:\",v,\"type(v):\",type(v),\"len(v):\",len(v),\", kwargs:\",kwargs,\"\\\"\\x1b[31m\")\n",
    "        keys = [i for i in v.keys()]\n",
    "        if \"rdf:li\" in keys:\n",
    "            if type(v[\"rdf:li\"])==dict:\n",
    "                if len(v[\"rdf:li\"])==1:\n",
    "                    k2 = next(iter(v[\"rdf:li\"]))\n",
    "                    if not k2 in v:\n",
    "                        v[k2]=v[\"rdf:li\"][k2]\n",
    "                        v.pop(\"rdf:li\")\n",
    "            elif type(v[\"rdf:li\"])==list:\n",
    "                keys2 = [next(iter(j)) if (type(j) == dict) and (len(j)==1) else False for j in v[\"rdf:li\"]]\n",
    "                if all_equal(keys2):\n",
    "                    key2 = keys2[0]\n",
    "                    vals = [ j[key2] for j in v[\"rdf:li\"]]\n",
    "                    v[key2] = vals\n",
    "                    v.pop(\"rdf:li\")\n",
    "    return v\n",
    "    \n",
    "\n",
    "def reduce_rdf(k,v,**kwargs): \n",
    "    '''\n",
    "    this is a callback function for nested. \n",
    "    it reduces single rdf-lists to its value\n",
    "    example:\n",
    "    >>>rdfdict = {'@rdf:about': '', \n",
    "        'camera:bandname': OrderedDict([('rdf:seq',OrderedDict([('rdf:li', 'LWIR')]))]),\n",
    "        'camera:centralwavelength': OrderedDict([('rdf:seq', OrderedDict([('rdf:li', '10000')]))]),\n",
    "        'camera:wavelengthfwhm': OrderedDict([('rdf:seq',OrderedDict([('rdf:li', '4500')]))]),\n",
    "        'camera:tlineargain': '0.00',}\n",
    "    \n",
    "    >>>nested.Nested(rdfdict,reduce_rdf).data\n",
    "    {'@rdf:about': '', \n",
    "        'camera:bandname': 'LWIR', \n",
    "        'camera:centralwavelength': '10000',\n",
    "        'camera:wavelengthfwhm': '4500', \n",
    "        'camera:tlineargain': '0.00'}\n",
    "     '''\n",
    "    if type(v) == dict:\n",
    "        if len(v)==1 and next(iter(v)) == \"rdf:seq\":\n",
    "            if type(v[\"rdf:seq\"])==dict and len(v[\"rdf:seq\"]) ==1: \n",
    "                val_1 = v[\"rdf:seq\"].get(\"rdf:li\")\n",
    "                if type(val_1)==str:\n",
    "                    return val_1\n",
    "    return v\n",
    "\n",
    "def lowerkeys(k,v,**kwargs): \n",
    "    '''\n",
    "    this is a callback function for nested. \n",
    "    it just converts all keys to lowercase\n",
    "     '''\n",
    "    if type(v) == dict:\n",
    "        return {k1.lower() if type(k1) in [bytes,str] else k1: v1 for k1,v1 in v.items()}\n",
    "    return v   "
   ]
  },
  {
   "cell_type": "code",
   "execution_count": null,
   "metadata": {},
   "outputs": [],
   "source": [
    "rdfdict = {'@rdf:about': '', 'camera:bandname': OrderedDict([('rdf:seq',OrderedDict([('rdf:li', 'LWIR')]))]),\n",
    " 'camera:centralwavelength': OrderedDict([('rdf:seq', OrderedDict([('rdf:li', '10000')]))]),\n",
    "           'camera:wavelengthfwhm': OrderedDict([('rdf:seq',OrderedDict([('rdf:li', '4500')]))]),\n",
    " 'camera:tlineargain': '0.00',}\n",
    "rdfdict\n",
    "nested.Nested(rdfdict,dicttype=dict).data"
   ]
  },
  {
   "cell_type": "code",
   "execution_count": null,
   "metadata": {},
   "outputs": [],
   "source": [
    "A = OrderedDict([('general', (None, OrderedDict([('bounding', (None, OrderedDict([ ('0', (None, OrderedDict([ ('0', (100, OrderedDict())), \n",
    "      ('1', (200, OrderedDict()))]))),]))), ('path',  ('blablabla', OrderedDict()))]))),])\n",
    "nested.Nested(A,nested.paramtodict,nested.pre_paramtodict,dicttype=dict).data   "
   ]
  },
  {
   "cell_type": "code",
   "execution_count": null,
   "metadata": {},
   "outputs": [],
   "source": [
    "nested.Nested(A,dicttype=dict).data   "
   ]
  },
  {
   "cell_type": "code",
   "execution_count": null,
   "metadata": {
    "scrolled": true
   },
   "outputs": [],
   "source": [
    "A = {'a':1,\"HalloDu\":2,\"Nested\":{\"rdF:GLK\":\"Test\",2:{\"sonst\":[\"list1\",2,5,6]}}}\n",
    "A\n",
    "\n",
    "nested.Nested(A,lowerkeys).data"
   ]
  },
  {
   "cell_type": "code",
   "execution_count": null,
   "metadata": {},
   "outputs": [],
   "source": [
    "newdic = type(rdfdict[\"camera:bandname\"])\n",
    "#newdic[\"Test\"]=\"Mytest\"\n",
    "#newdic.append(\"Test\")\n",
    "nested.Nested(rdfdict).data"
   ]
  },
  {
   "cell_type": "code",
   "execution_count": null,
   "metadata": {},
   "outputs": [],
   "source": [
    "nested.Nested(rdf1,callback=reduce_rdf2,callback_pre=pre_reduce_rdf).data"
   ]
  },
  {
   "cell_type": "code",
   "execution_count": null,
   "metadata": {},
   "outputs": [],
   "source": [
    "nested.Nested(rdf2,callback=reduce_rdf2,callback_pre=pre_reduce_rdf).data"
   ]
  },
  {
   "cell_type": "code",
   "execution_count": null,
   "metadata": {},
   "outputs": [],
   "source": [
    "nested.Nested(rdf3,callback=reduce_rdf2,callback_pre=pre_reduce_rdf).data"
   ]
  },
  {
   "cell_type": "code",
   "execution_count": null,
   "metadata": {},
   "outputs": [],
   "source": [
    "nested.Nested(flir.xmp).data"
   ]
  },
  {
   "cell_type": "code",
   "execution_count": null,
   "metadata": {},
   "outputs": [],
   "source": [
    "\n",
    "nested.Nested(xmp_od,callback=reduce_rdf,callback_pre=pre_reduce_rdf).data"
   ]
  },
  {
   "cell_type": "code",
   "execution_count": null,
   "metadata": {},
   "outputs": [],
   "source": []
  }
 ],
 "metadata": {
  "kernelspec": {
   "display_name": "Python 3",
   "language": "python",
   "name": "python3"
  },
  "language_info": {
   "codemirror_mode": {
    "name": "ipython",
    "version": 3
   },
   "file_extension": ".py",
   "mimetype": "text/x-python",
   "name": "python",
   "nbconvert_exporter": "python",
   "pygments_lexer": "ipython3",
   "version": "3.8.4"
  }
 },
 "nbformat": 4,
 "nbformat_minor": 4
}
